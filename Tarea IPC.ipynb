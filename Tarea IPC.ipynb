{
 "cells": [
  {
   "cell_type": "code",
   "execution_count": 1,
   "id": "bbda0aa6",
   "metadata": {},
   "outputs": [
    {
     "name": "stdout",
     "output_type": "stream",
     "text": [
      "Requirement already satisfied: yfinance in ./opt/anaconda3/lib/python3.9/site-packages (0.2.43)\n",
      "Requirement already satisfied: statsforecast in ./opt/anaconda3/lib/python3.9/site-packages (1.7.6)\n",
      "Requirement already satisfied: matplotlib in ./opt/anaconda3/lib/python3.9/site-packages (3.5.1)\n",
      "Requirement already satisfied: pandas in ./opt/anaconda3/lib/python3.9/site-packages (1.4.2)\n",
      "Requirement already satisfied: multitasking>=0.0.7 in ./opt/anaconda3/lib/python3.9/site-packages (from yfinance) (0.0.11)\n",
      "Requirement already satisfied: numpy>=1.16.5 in ./opt/anaconda3/lib/python3.9/site-packages (from yfinance) (1.21.6)\n",
      "Requirement already satisfied: peewee>=3.16.2 in ./opt/anaconda3/lib/python3.9/site-packages (from yfinance) (3.17.6)\n",
      "Requirement already satisfied: requests>=2.31 in ./opt/anaconda3/lib/python3.9/site-packages (from yfinance) (2.32.3)\n",
      "Requirement already satisfied: platformdirs>=2.0.0 in ./opt/anaconda3/lib/python3.9/site-packages (from yfinance) (4.2.2)\n",
      "Requirement already satisfied: beautifulsoup4>=4.11.1 in ./opt/anaconda3/lib/python3.9/site-packages (from yfinance) (4.11.1)\n",
      "Requirement already satisfied: lxml>=4.9.1 in ./opt/anaconda3/lib/python3.9/site-packages (from yfinance) (5.3.0)\n",
      "Requirement already satisfied: frozendict>=2.3.4 in ./opt/anaconda3/lib/python3.9/site-packages (from yfinance) (2.4.4)\n",
      "Requirement already satisfied: html5lib>=1.1 in ./opt/anaconda3/lib/python3.9/site-packages (from yfinance) (1.1)\n",
      "Requirement already satisfied: pytz>=2022.5 in ./opt/anaconda3/lib/python3.9/site-packages (from yfinance) (2024.1)\n",
      "Requirement already satisfied: utilsforecast>=0.1.4 in ./opt/anaconda3/lib/python3.9/site-packages (from statsforecast) (0.2.3)\n",
      "Requirement already satisfied: statsmodels>=0.13.2 in ./opt/anaconda3/lib/python3.9/site-packages (from statsforecast) (0.13.2)\n",
      "Requirement already satisfied: cloudpickle in ./opt/anaconda3/lib/python3.9/site-packages (from statsforecast) (2.0.0)\n",
      "Requirement already satisfied: tqdm in ./opt/anaconda3/lib/python3.9/site-packages (from statsforecast) (4.64.0)\n",
      "Requirement already satisfied: fugue>=0.8.1 in ./opt/anaconda3/lib/python3.9/site-packages (from statsforecast) (0.9.1)\n",
      "Requirement already satisfied: numba>=0.55.0 in ./opt/anaconda3/lib/python3.9/site-packages (from statsforecast) (0.55.1)\n",
      "Requirement already satisfied: coreforecast>=0.0.12 in ./opt/anaconda3/lib/python3.9/site-packages (from statsforecast) (0.0.12)\n",
      "Requirement already satisfied: threadpoolctl in ./opt/anaconda3/lib/python3.9/site-packages (from statsforecast) (2.2.0)\n",
      "Requirement already satisfied: scipy>=1.7.3 in ./opt/anaconda3/lib/python3.9/site-packages (from statsforecast) (1.7.3)\n",
      "Requirement already satisfied: kiwisolver>=1.0.1 in ./opt/anaconda3/lib/python3.9/site-packages (from matplotlib) (1.3.2)\n",
      "Requirement already satisfied: pillow>=6.2.0 in ./opt/anaconda3/lib/python3.9/site-packages (from matplotlib) (9.0.1)\n",
      "Requirement already satisfied: fonttools>=4.22.0 in ./opt/anaconda3/lib/python3.9/site-packages (from matplotlib) (4.25.0)\n",
      "Requirement already satisfied: cycler>=0.10 in ./opt/anaconda3/lib/python3.9/site-packages (from matplotlib) (0.11.0)\n",
      "Requirement already satisfied: pyparsing>=2.2.1 in ./opt/anaconda3/lib/python3.9/site-packages (from matplotlib) (3.0.4)\n",
      "Requirement already satisfied: python-dateutil>=2.7 in ./opt/anaconda3/lib/python3.9/site-packages (from matplotlib) (2.8.2)\n",
      "Requirement already satisfied: packaging>=20.0 in ./opt/anaconda3/lib/python3.9/site-packages (from matplotlib) (21.3)\n",
      "Requirement already satisfied: soupsieve>1.2 in ./opt/anaconda3/lib/python3.9/site-packages (from beautifulsoup4>=4.11.1->yfinance) (2.3.1)\n",
      "Requirement already satisfied: importlib_resources in ./opt/anaconda3/lib/python3.9/site-packages (from coreforecast>=0.0.12->statsforecast) (6.4.4)\n",
      "Requirement already satisfied: adagio>=0.2.4 in ./opt/anaconda3/lib/python3.9/site-packages (from fugue>=0.8.1->statsforecast) (0.2.6)\n",
      "Requirement already satisfied: triad>=0.9.7 in ./opt/anaconda3/lib/python3.9/site-packages (from fugue>=0.8.1->statsforecast) (0.9.8)\n",
      "Requirement already satisfied: six>=1.9 in ./opt/anaconda3/lib/python3.9/site-packages (from html5lib>=1.1->yfinance) (1.16.0)\n",
      "Requirement already satisfied: webencodings in ./opt/anaconda3/lib/python3.9/site-packages (from html5lib>=1.1->yfinance) (0.5.1)\n",
      "Requirement already satisfied: llvmlite<0.39,>=0.38.0rc1 in ./opt/anaconda3/lib/python3.9/site-packages (from numba>=0.55.0->statsforecast) (0.38.0)\n",
      "Requirement already satisfied: setuptools in ./opt/anaconda3/lib/python3.9/site-packages (from numba>=0.55.0->statsforecast) (61.2.0)\n",
      "Requirement already satisfied: certifi>=2017.4.17 in ./opt/anaconda3/lib/python3.9/site-packages (from requests>=2.31->yfinance) (2021.10.8)\n",
      "Requirement already satisfied: charset-normalizer<4,>=2 in ./opt/anaconda3/lib/python3.9/site-packages (from requests>=2.31->yfinance) (2.0.4)\n",
      "Requirement already satisfied: idna<4,>=2.5 in ./opt/anaconda3/lib/python3.9/site-packages (from requests>=2.31->yfinance) (3.3)\n",
      "Requirement already satisfied: urllib3<3,>=1.21.1 in ./opt/anaconda3/lib/python3.9/site-packages (from requests>=2.31->yfinance) (1.26.9)\n",
      "Requirement already satisfied: patsy>=0.5.2 in ./opt/anaconda3/lib/python3.9/site-packages (from statsmodels>=0.13.2->statsforecast) (0.5.2)\n",
      "Requirement already satisfied: fsspec>=2022.5.0 in ./opt/anaconda3/lib/python3.9/site-packages (from triad>=0.9.7->fugue>=0.8.1->statsforecast) (2024.6.1)\n",
      "Requirement already satisfied: fs in ./opt/anaconda3/lib/python3.9/site-packages (from triad>=0.9.7->fugue>=0.8.1->statsforecast) (2.4.16)\n",
      "Requirement already satisfied: pyarrow>=6.0.1 in ./opt/anaconda3/lib/python3.9/site-packages (from triad>=0.9.7->fugue>=0.8.1->statsforecast) (17.0.0)\n",
      "Requirement already satisfied: appdirs~=1.4.3 in ./opt/anaconda3/lib/python3.9/site-packages (from fs->triad>=0.9.7->fugue>=0.8.1->statsforecast) (1.4.4)\n",
      "Requirement already satisfied: zipp>=3.1.0 in ./opt/anaconda3/lib/python3.9/site-packages (from importlib_resources->coreforecast>=0.0.12->statsforecast) (3.7.0)\n",
      "Note: you may need to restart the kernel to use updated packages.\n"
     ]
    }
   ],
   "source": [
    "pip install yfinance statsforecast matplotlib pandas\n"
   ]
  },
  {
   "cell_type": "code",
   "execution_count": null,
   "id": "ae85fb70",
   "metadata": {},
   "outputs": [],
   "source": [
    "import yfinance as yf\n",
    "import pandas as pd\n",
    "from statsforecast import StatsForecast\n",
    "from statsforecast.models import AutoETS\n",
    "from sklearn.metrics import mean_absolute_percentage_error\n",
    "import matplotlib.pyplot as plt\n",
    "\n",
    "symbols = [\n",
    "    'GFNORTEO.MX', 'AMXL.MX', 'WALMEX.MX', 'GMEXICOB.MX', 'CEMEXCPO.MX',\n",
    "    'KOF.MX', 'PE&OLES.MX', 'BIMBOA.MX', 'ELEKTRA.MX', 'GAPB.MX', \n",
    "    'TLEVISACPO.MX', 'ALSEA.MX', 'OMAB.MX', 'AC.MX', 'GRUMAB.MX',\n",
    "    'FEMSAUBD.MX', 'LABB.MX', 'GFINBURO.MX', 'LIVEPOLC-1.MX', 'ICHB.MX',\n",
    "    'CUERVO.MX', 'BSMXB.MX', 'PINFRA.MX', 'SANMEXB.MX', 'MEGACPO.MX',\n",
    "    'IENOVA.MX', 'ASURB.MX', 'GMXT.MX', 'GENTERA.MX', 'RA.MX'\n",
    "]\n",
    "\n",
    "data = yf.download(symbols, start=\"2015-01-01\", end=\"2024-01-01\", interval='1mo')['Adj Close']\n",
    "\n",
    "data_long = data.reset_index().melt(id_vars=\"Date\", var_name=\"unique_id\", value_name=\"y\")\n",
    "data_long = data_long.rename(columns={\"Date\": \"ds\"}).dropna()\n",
    "\n",
    "print(data_long.head())\n"
   ]
  },
  {
   "cell_type": "code",
   "execution_count": null,
   "id": "e32e1c55",
   "metadata": {},
   "outputs": [],
   "source": [
    "train_data = data_long[data_long['ds'] < '2023-10-01']\n",
    "test_data = data_long[data_long['ds'] >= '2023-10-01']\n"
   ]
  },
  {
   "cell_type": "code",
   "execution_count": null,
   "id": "18130aeb",
   "metadata": {},
   "outputs": [],
   "source": [
    "model = StatsForecast(df=train_data, models=[AutoETS()], freq='M')\n",
    "model.fit()\n",
    "\n",
    "forecast_horizon = len(test_data['ds'].unique())\n",
    "forecasts = model.predict(h=forecast_horizon)\n",
    "\n",
    "merged_data = test_data.merge(forecasts, on=['unique_id', 'ds'])\n",
    "print(merged_data.head())\n"
   ]
  },
  {
   "cell_type": "code",
   "execution_count": null,
   "id": "e1761602",
   "metadata": {},
   "outputs": [],
   "source": [
    "errors = merged_data.groupby('unique_id').apply(\n",
    "    lambda df: mean_absolute_percentage_error(df['y'], df['AutoETS'])\n",
    ").reset_index(name='MAPE')\n",
    "\n",
    "best_fit = errors.nsmallest(1, 'MAPE')\n",
    "worst_fit = errors.nlargest(1, 'MAPE')\n",
    "print(\"Mejor ajuste:\", best_fit)\n",
    "print(\"Peor ajuste:\", worst_fit)\n"
   ]
  },
  {
   "cell_type": "code",
   "execution_count": null,
   "id": "6398b62c",
   "metadata": {},
   "outputs": [],
   "source": [
    "best_id = best_fit['unique_id'].values[0]\n",
    "worst_id = worst_fit['unique_id'].values[0]\n",
    "\n",
    "def plot_series(series_id, title):\n",
    "    series_data = merged_data[merged_data['unique_id'] == series_id]\n",
    "    plt.figure(figsize=(10, 6))\n",
    "    plt.plot(series_data['ds'], series_data['y'], label='Datos reales')\n",
    "    plt.plot(series_data['ds'], series_data['AutoETS'], label='Pronóstico', color='red')\n",
    "    plt.title(f\"{title} (MAPE: {series_data['MAPE'].values[0]:.2f})\")\n",
    "    plt.xlabel('Fecha')\n",
    "    plt.ylabel('Precio')\n",
    "    plt.legend()\n",
    "    plt.show()\n",
    "\n",
    "plot_series(best_id, 'Serie con el mejor ajuste')\n",
    "plot_series(worst_id, 'Serie con el peor ajuste')\n"
   ]
  }
 ],
 "metadata": {
  "kernelspec": {
   "display_name": "Python 3 (ipykernel)",
   "language": "python",
   "name": "python3"
  },
  "language_info": {
   "codemirror_mode": {
    "name": "ipython",
    "version": 3
   },
   "file_extension": ".py",
   "mimetype": "text/x-python",
   "name": "python",
   "nbconvert_exporter": "python",
   "pygments_lexer": "ipython3",
   "version": "3.9.12"
  }
 },
 "nbformat": 4,
 "nbformat_minor": 5
}
