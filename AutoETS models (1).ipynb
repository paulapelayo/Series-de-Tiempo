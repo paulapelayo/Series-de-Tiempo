{
 "cells": [
  {
   "cell_type": "markdown",
   "id": "2bb2ade9",
   "metadata": {},
   "source": [
    "# AutoETS models"
   ]
  },
  {
   "cell_type": "code",
   "execution_count": 15,
   "id": "2037197c",
   "metadata": {},
   "outputs": [],
   "source": [
    "import numpy as np\n",
    "import pandas as pd"
   ]
  },
  {
   "cell_type": "code",
   "execution_count": 16,
   "id": "f8bf4534",
   "metadata": {},
   "outputs": [],
   "source": [
    "import matplotlib.pyplot as plt\n",
    "import seaborn as sns\n",
    "from statsmodels.graphics.tsaplots import plot_acf\n",
    "from statsmodels.graphics.tsaplots import plot_pacf\n",
    "\n",
    "plt.style.use('fivethirtyeight')\n",
    "plt.rcParams['lines.linewidth'] = 1.5\n",
    "dark_style = {\n",
    "    'figure.facecolor': '#212946',\n",
    "    'axes.facecolor': '#212946',\n",
    "    'savefig.facecolor':'#212946',\n",
    "    'axes.grid': True,\n",
    "    'axes.grid.which': 'both',\n",
    "    'axes.spines.left': False,\n",
    "    'axes.spines.right': False,\n",
    "    'axes.spines.top': False,\n",
    "    'axes.spines.bottom': False,\n",
    "    'grid.color': '#2A3459',\n",
    "    'grid.linewidth': '1',\n",
    "    'text.color': '0.9',\n",
    "    'axes.labelcolor': '0.9',\n",
    "    'xtick.color': '0.9',\n",
    "    'ytick.color': '0.9',\n",
    "    'font.size': 12 }\n",
    "plt.rcParams.update(dark_style)\n",
    "\n",
    "from pylab import rcParams\n",
    "rcParams['figure.figsize'] = (18,7)\n"
   ]
  },
  {
   "cell_type": "code",
   "execution_count": 17,
   "id": "f8d276a9",
   "metadata": {},
   "outputs": [
    {
     "data": {
      "text/html": [
       "<div>\n",
       "<style scoped>\n",
       "    .dataframe tbody tr th:only-of-type {\n",
       "        vertical-align: middle;\n",
       "    }\n",
       "\n",
       "    .dataframe tbody tr th {\n",
       "        vertical-align: top;\n",
       "    }\n",
       "\n",
       "    .dataframe thead th {\n",
       "        text-align: right;\n",
       "    }\n",
       "</style>\n",
       "<table border=\"1\" class=\"dataframe\">\n",
       "  <thead>\n",
       "    <tr style=\"text-align: right;\">\n",
       "      <th></th>\n",
       "      <th>year</th>\n",
       "      <th>value</th>\n",
       "    </tr>\n",
       "  </thead>\n",
       "  <tbody>\n",
       "    <tr>\n",
       "      <th>0</th>\n",
       "      <td>1960-01-01</td>\n",
       "      <td>69.123902</td>\n",
       "    </tr>\n",
       "    <tr>\n",
       "      <th>1</th>\n",
       "      <td>1961-01-01</td>\n",
       "      <td>69.760244</td>\n",
       "    </tr>\n",
       "    <tr>\n",
       "      <th>2</th>\n",
       "      <td>1962-01-01</td>\n",
       "      <td>69.149756</td>\n",
       "    </tr>\n",
       "    <tr>\n",
       "      <th>3</th>\n",
       "      <td>1963-01-01</td>\n",
       "      <td>69.248049</td>\n",
       "    </tr>\n",
       "    <tr>\n",
       "      <th>4</th>\n",
       "      <td>1964-01-01</td>\n",
       "      <td>70.311707</td>\n",
       "    </tr>\n",
       "  </tbody>\n",
       "</table>\n",
       "</div>"
      ],
      "text/plain": [
       "         year      value\n",
       "0  1960-01-01  69.123902\n",
       "1  1961-01-01  69.760244\n",
       "2  1962-01-01  69.149756\n",
       "3  1963-01-01  69.248049\n",
       "4  1964-01-01  70.311707"
      ]
     },
     "execution_count": 17,
     "metadata": {},
     "output_type": "execute_result"
    }
   ],
   "source": [
    "df = pd.read_csv(\"https://raw.githubusercontent.com/Naren8520/Serie-de-tiempo-con-Machine-Learning/main/Data/Esperanza_vida.csv\", usecols=[1,2])\n",
    "df.head()"
   ]
  },
  {
   "cell_type": "code",
   "execution_count": 20,
   "id": "bf64c3bd",
   "metadata": {},
   "outputs": [
    {
     "name": "stdout",
     "output_type": "stream",
     "text": [
      "year      object\n",
      "value    float64\n",
      "dtype: object\n"
     ]
    }
   ],
   "source": [
    "print(df.dtypes)"
   ]
  },
  {
   "cell_type": "code",
   "execution_count": 29,
   "id": "752298b6",
   "metadata": {},
   "outputs": [
    {
     "name": "stdout",
     "output_type": "stream",
     "text": [
      "Requirement already satisfied: statsforecast in ./opt/anaconda3/lib/python3.9/site-packages (1.7.6)\n",
      "Requirement already satisfied: pandas>=1.3.5 in ./opt/anaconda3/lib/python3.9/site-packages (from statsforecast) (1.4.2)\n",
      "Requirement already satisfied: tqdm in ./opt/anaconda3/lib/python3.9/site-packages (from statsforecast) (4.64.0)\n",
      "Requirement already satisfied: numpy>=1.21.6 in ./opt/anaconda3/lib/python3.9/site-packages (from statsforecast) (1.21.6)\n",
      "Requirement already satisfied: scipy>=1.7.3 in ./opt/anaconda3/lib/python3.9/site-packages (from statsforecast) (1.7.3)\n",
      "Requirement already satisfied: statsmodels>=0.13.2 in ./opt/anaconda3/lib/python3.9/site-packages (from statsforecast) (0.13.2)\n",
      "Requirement already satisfied: numba>=0.55.0 in ./opt/anaconda3/lib/python3.9/site-packages (from statsforecast) (0.55.1)\n",
      "Requirement already satisfied: coreforecast>=0.0.12 in ./opt/anaconda3/lib/python3.9/site-packages (from statsforecast) (0.0.12)\n",
      "Requirement already satisfied: fugue>=0.8.1 in ./opt/anaconda3/lib/python3.9/site-packages (from statsforecast) (0.9.1)\n",
      "Requirement already satisfied: threadpoolctl in ./opt/anaconda3/lib/python3.9/site-packages (from statsforecast) (2.2.0)\n",
      "Requirement already satisfied: cloudpickle in ./opt/anaconda3/lib/python3.9/site-packages (from statsforecast) (2.0.0)\n",
      "Requirement already satisfied: utilsforecast>=0.1.4 in ./opt/anaconda3/lib/python3.9/site-packages (from statsforecast) (0.2.3)\n",
      "Requirement already satisfied: importlib_resources in ./opt/anaconda3/lib/python3.9/site-packages (from coreforecast>=0.0.12->statsforecast) (6.4.4)\n",
      "Requirement already satisfied: adagio>=0.2.4 in ./opt/anaconda3/lib/python3.9/site-packages (from fugue>=0.8.1->statsforecast) (0.2.6)\n",
      "Requirement already satisfied: triad>=0.9.7 in ./opt/anaconda3/lib/python3.9/site-packages (from fugue>=0.8.1->statsforecast) (0.9.8)\n",
      "Requirement already satisfied: llvmlite<0.39,>=0.38.0rc1 in ./opt/anaconda3/lib/python3.9/site-packages (from numba>=0.55.0->statsforecast) (0.38.0)\n",
      "Requirement already satisfied: setuptools in ./opt/anaconda3/lib/python3.9/site-packages (from numba>=0.55.0->statsforecast) (61.2.0)\n",
      "Requirement already satisfied: python-dateutil>=2.8.1 in ./opt/anaconda3/lib/python3.9/site-packages (from pandas>=1.3.5->statsforecast) (2.8.2)\n",
      "Requirement already satisfied: pytz>=2020.1 in ./opt/anaconda3/lib/python3.9/site-packages (from pandas>=1.3.5->statsforecast) (2024.1)\n",
      "Requirement already satisfied: six>=1.5 in ./opt/anaconda3/lib/python3.9/site-packages (from python-dateutil>=2.8.1->pandas>=1.3.5->statsforecast) (1.16.0)\n",
      "Requirement already satisfied: packaging>=21.3 in ./opt/anaconda3/lib/python3.9/site-packages (from statsmodels>=0.13.2->statsforecast) (21.3)\n",
      "Requirement already satisfied: patsy>=0.5.2 in ./opt/anaconda3/lib/python3.9/site-packages (from statsmodels>=0.13.2->statsforecast) (0.5.2)\n",
      "Requirement already satisfied: pyparsing!=3.0.5,>=2.0.2 in ./opt/anaconda3/lib/python3.9/site-packages (from packaging>=21.3->statsmodels>=0.13.2->statsforecast) (3.0.4)\n",
      "Requirement already satisfied: fsspec>=2022.5.0 in ./opt/anaconda3/lib/python3.9/site-packages (from triad>=0.9.7->fugue>=0.8.1->statsforecast) (2024.6.1)\n",
      "Requirement already satisfied: pyarrow>=6.0.1 in ./opt/anaconda3/lib/python3.9/site-packages (from triad>=0.9.7->fugue>=0.8.1->statsforecast) (17.0.0)\n",
      "Requirement already satisfied: fs in ./opt/anaconda3/lib/python3.9/site-packages (from triad>=0.9.7->fugue>=0.8.1->statsforecast) (2.4.16)\n",
      "Requirement already satisfied: appdirs~=1.4.3 in ./opt/anaconda3/lib/python3.9/site-packages (from fs->triad>=0.9.7->fugue>=0.8.1->statsforecast) (1.4.4)\n",
      "Requirement already satisfied: zipp>=3.1.0 in ./opt/anaconda3/lib/python3.9/site-packages (from importlib_resources->coreforecast>=0.0.12->statsforecast) (3.7.0)\n",
      "Note: you may need to restart the kernel to use updated packages.\n"
     ]
    }
   ],
   "source": [
    "pip install statsforecast"
   ]
  },
  {
   "cell_type": "code",
   "execution_count": 32,
   "id": "ed194124",
   "metadata": {},
   "outputs": [
    {
     "ename": "KeyError",
     "evalue": "'ds'",
     "output_type": "error",
     "traceback": [
      "\u001b[0;31m---------------------------------------------------------------------------\u001b[0m",
      "\u001b[0;31mKeyError\u001b[0m                                  Traceback (most recent call last)",
      "File \u001b[0;32m~/opt/anaconda3/lib/python3.9/site-packages/pandas/core/indexes/base.py:3621\u001b[0m, in \u001b[0;36mIndex.get_loc\u001b[0;34m(self, key, method, tolerance)\u001b[0m\n\u001b[1;32m   3620\u001b[0m \u001b[38;5;28;01mtry\u001b[39;00m:\n\u001b[0;32m-> 3621\u001b[0m     \u001b[38;5;28;01mreturn\u001b[39;00m \u001b[38;5;28;43mself\u001b[39;49m\u001b[38;5;241;43m.\u001b[39;49m\u001b[43m_engine\u001b[49m\u001b[38;5;241;43m.\u001b[39;49m\u001b[43mget_loc\u001b[49m\u001b[43m(\u001b[49m\u001b[43mcasted_key\u001b[49m\u001b[43m)\u001b[49m\n\u001b[1;32m   3622\u001b[0m \u001b[38;5;28;01mexcept\u001b[39;00m \u001b[38;5;167;01mKeyError\u001b[39;00m \u001b[38;5;28;01mas\u001b[39;00m err:\n",
      "File \u001b[0;32m~/opt/anaconda3/lib/python3.9/site-packages/pandas/_libs/index.pyx:136\u001b[0m, in \u001b[0;36mpandas._libs.index.IndexEngine.get_loc\u001b[0;34m()\u001b[0m\n",
      "File \u001b[0;32m~/opt/anaconda3/lib/python3.9/site-packages/pandas/_libs/index.pyx:163\u001b[0m, in \u001b[0;36mpandas._libs.index.IndexEngine.get_loc\u001b[0;34m()\u001b[0m\n",
      "File \u001b[0;32mpandas/_libs/hashtable_class_helper.pxi:5198\u001b[0m, in \u001b[0;36mpandas._libs.hashtable.PyObjectHashTable.get_item\u001b[0;34m()\u001b[0m\n",
      "File \u001b[0;32mpandas/_libs/hashtable_class_helper.pxi:5206\u001b[0m, in \u001b[0;36mpandas._libs.hashtable.PyObjectHashTable.get_item\u001b[0;34m()\u001b[0m\n",
      "\u001b[0;31mKeyError\u001b[0m: 'ds'",
      "\nThe above exception was the direct cause of the following exception:\n",
      "\u001b[0;31mKeyError\u001b[0m                                  Traceback (most recent call last)",
      "Input \u001b[0;32mIn [32]\u001b[0m, in \u001b[0;36m<cell line: 3>\u001b[0;34m()\u001b[0m\n\u001b[1;32m      1\u001b[0m \u001b[38;5;28;01mfrom\u001b[39;00m \u001b[38;5;21;01mstatsforecast\u001b[39;00m \u001b[38;5;28;01mimport\u001b[39;00m StatsForecast\n\u001b[0;32m----> 3\u001b[0m \u001b[43mStatsForecast\u001b[49m\u001b[38;5;241;43m.\u001b[39;49m\u001b[43mplot\u001b[49m\u001b[43m(\u001b[49m\u001b[43mdf\u001b[49m\u001b[43m)\u001b[49m\n",
      "File \u001b[0;32m~/opt/anaconda3/lib/python3.9/site-packages/statsforecast/core.py:1436\u001b[0m, in \u001b[0;36m_StatsForecast.plot\u001b[0;34m(df, forecasts_df, unique_ids, plot_random, models, level, max_insample_length, plot_anomalies, engine, id_col, time_col, target_col, resampler_kwargs)\u001b[0m\n\u001b[1;32m   1404\u001b[0m \u001b[38;5;124;03m\"\"\"Plot forecasts and insample values.\u001b[39;00m\n\u001b[1;32m   1405\u001b[0m \n\u001b[1;32m   1406\u001b[0m \u001b[38;5;124;03mParameters\u001b[39;00m\n\u001b[0;32m   (...)\u001b[0m\n\u001b[1;32m   1432\u001b[0m \u001b[38;5;124;03m    its `show_dash` method.\u001b[39;00m\n\u001b[1;32m   1433\u001b[0m \u001b[38;5;124;03m\"\"\"\u001b[39;00m\n\u001b[1;32m   1434\u001b[0m \u001b[38;5;28;01mfrom\u001b[39;00m \u001b[38;5;21;01mutilsforecast\u001b[39;00m\u001b[38;5;21;01m.\u001b[39;00m\u001b[38;5;21;01mplotting\u001b[39;00m \u001b[38;5;28;01mimport\u001b[39;00m plot_series\n\u001b[0;32m-> 1436\u001b[0m df \u001b[38;5;241m=\u001b[39m \u001b[43mensure_time_dtype\u001b[49m\u001b[43m(\u001b[49m\u001b[43mdf\u001b[49m\u001b[43m,\u001b[49m\u001b[43m \u001b[49m\u001b[43mtime_col\u001b[49m\u001b[43m)\u001b[49m\n\u001b[1;32m   1437\u001b[0m \u001b[38;5;28;01mif\u001b[39;00m \u001b[38;5;28misinstance\u001b[39m(df, pd\u001b[38;5;241m.\u001b[39mDataFrame) \u001b[38;5;129;01mand\u001b[39;00m df\u001b[38;5;241m.\u001b[39mindex\u001b[38;5;241m.\u001b[39mname \u001b[38;5;241m==\u001b[39m id_col:\n\u001b[1;32m   1438\u001b[0m     warnings\u001b[38;5;241m.\u001b[39mwarn(\n\u001b[1;32m   1439\u001b[0m         \u001b[38;5;124m\"\u001b[39m\u001b[38;5;124mPassing the ids as the index is deprecated. \u001b[39m\u001b[38;5;124m\"\u001b[39m\n\u001b[1;32m   1440\u001b[0m         \u001b[38;5;124m\"\u001b[39m\u001b[38;5;124mPlease provide them as a column instead.\u001b[39m\u001b[38;5;124m\"\u001b[39m,\n\u001b[1;32m   1441\u001b[0m         category\u001b[38;5;241m=\u001b[39m\u001b[38;5;167;01mFutureWarning\u001b[39;00m,\n\u001b[1;32m   1442\u001b[0m     )\n",
      "File \u001b[0;32m~/opt/anaconda3/lib/python3.9/site-packages/utilsforecast/validation.py:50\u001b[0m, in \u001b[0;36mensure_time_dtype\u001b[0;34m(df, time_col)\u001b[0m\n\u001b[1;32m     47\u001b[0m \u001b[38;5;28;01mdef\u001b[39;00m \u001b[38;5;21mensure_time_dtype\u001b[39m(df: DFType, time_col: \u001b[38;5;28mstr\u001b[39m \u001b[38;5;241m=\u001b[39m \u001b[38;5;124m\"\u001b[39m\u001b[38;5;124mds\u001b[39m\u001b[38;5;124m\"\u001b[39m) \u001b[38;5;241m-\u001b[39m\u001b[38;5;241m>\u001b[39m DFType:\n\u001b[1;32m     48\u001b[0m     \u001b[38;5;124;03m\"\"\"Make sure that `time_col` contains timestamps or integers.\u001b[39;00m\n\u001b[1;32m     49\u001b[0m \u001b[38;5;124;03m    If it contains strings, try to cast them as timestamps.\"\"\"\u001b[39;00m\n\u001b[0;32m---> 50\u001b[0m     times \u001b[38;5;241m=\u001b[39m \u001b[43mdf\u001b[49m\u001b[43m[\u001b[49m\u001b[43mtime_col\u001b[49m\u001b[43m]\u001b[49m\n\u001b[1;32m     51\u001b[0m     \u001b[38;5;28;01mif\u001b[39;00m _is_dt_or_int(times):\n\u001b[1;32m     52\u001b[0m         \u001b[38;5;28;01mreturn\u001b[39;00m df\n",
      "File \u001b[0;32m~/opt/anaconda3/lib/python3.9/site-packages/pandas/core/frame.py:3505\u001b[0m, in \u001b[0;36mDataFrame.__getitem__\u001b[0;34m(self, key)\u001b[0m\n\u001b[1;32m   3503\u001b[0m \u001b[38;5;28;01mif\u001b[39;00m \u001b[38;5;28mself\u001b[39m\u001b[38;5;241m.\u001b[39mcolumns\u001b[38;5;241m.\u001b[39mnlevels \u001b[38;5;241m>\u001b[39m \u001b[38;5;241m1\u001b[39m:\n\u001b[1;32m   3504\u001b[0m     \u001b[38;5;28;01mreturn\u001b[39;00m \u001b[38;5;28mself\u001b[39m\u001b[38;5;241m.\u001b[39m_getitem_multilevel(key)\n\u001b[0;32m-> 3505\u001b[0m indexer \u001b[38;5;241m=\u001b[39m \u001b[38;5;28;43mself\u001b[39;49m\u001b[38;5;241;43m.\u001b[39;49m\u001b[43mcolumns\u001b[49m\u001b[38;5;241;43m.\u001b[39;49m\u001b[43mget_loc\u001b[49m\u001b[43m(\u001b[49m\u001b[43mkey\u001b[49m\u001b[43m)\u001b[49m\n\u001b[1;32m   3506\u001b[0m \u001b[38;5;28;01mif\u001b[39;00m is_integer(indexer):\n\u001b[1;32m   3507\u001b[0m     indexer \u001b[38;5;241m=\u001b[39m [indexer]\n",
      "File \u001b[0;32m~/opt/anaconda3/lib/python3.9/site-packages/pandas/core/indexes/base.py:3623\u001b[0m, in \u001b[0;36mIndex.get_loc\u001b[0;34m(self, key, method, tolerance)\u001b[0m\n\u001b[1;32m   3621\u001b[0m     \u001b[38;5;28;01mreturn\u001b[39;00m \u001b[38;5;28mself\u001b[39m\u001b[38;5;241m.\u001b[39m_engine\u001b[38;5;241m.\u001b[39mget_loc(casted_key)\n\u001b[1;32m   3622\u001b[0m \u001b[38;5;28;01mexcept\u001b[39;00m \u001b[38;5;167;01mKeyError\u001b[39;00m \u001b[38;5;28;01mas\u001b[39;00m err:\n\u001b[0;32m-> 3623\u001b[0m     \u001b[38;5;28;01mraise\u001b[39;00m \u001b[38;5;167;01mKeyError\u001b[39;00m(key) \u001b[38;5;28;01mfrom\u001b[39;00m \u001b[38;5;21;01merr\u001b[39;00m\n\u001b[1;32m   3624\u001b[0m \u001b[38;5;28;01mexcept\u001b[39;00m \u001b[38;5;167;01mTypeError\u001b[39;00m:\n\u001b[1;32m   3625\u001b[0m     \u001b[38;5;66;03m# If we have a listlike key, _check_indexing_error will raise\u001b[39;00m\n\u001b[1;32m   3626\u001b[0m     \u001b[38;5;66;03m#  InvalidIndexError. Otherwise we fall through and re-raise\u001b[39;00m\n\u001b[1;32m   3627\u001b[0m     \u001b[38;5;66;03m#  the TypeError.\u001b[39;00m\n\u001b[1;32m   3628\u001b[0m     \u001b[38;5;28mself\u001b[39m\u001b[38;5;241m.\u001b[39m_check_indexing_error(key)\n",
      "\u001b[0;31mKeyError\u001b[0m: 'ds'"
     ]
    }
   ],
   "source": [
    "from statsforecast import StatsForecast\n",
    "\n",
    "StatsForecast.plot(df)"
   ]
  },
  {
   "cell_type": "code",
   "execution_count": 33,
   "id": "37c18f14",
   "metadata": {},
   "outputs": [
    {
     "ename": "KeyError",
     "evalue": "'y'",
     "output_type": "error",
     "traceback": [
      "\u001b[0;31m---------------------------------------------------------------------------\u001b[0m",
      "\u001b[0;31mKeyError\u001b[0m                                  Traceback (most recent call last)",
      "File \u001b[0;32m~/opt/anaconda3/lib/python3.9/site-packages/pandas/core/indexes/base.py:3621\u001b[0m, in \u001b[0;36mIndex.get_loc\u001b[0;34m(self, key, method, tolerance)\u001b[0m\n\u001b[1;32m   3620\u001b[0m \u001b[38;5;28;01mtry\u001b[39;00m:\n\u001b[0;32m-> 3621\u001b[0m     \u001b[38;5;28;01mreturn\u001b[39;00m \u001b[38;5;28;43mself\u001b[39;49m\u001b[38;5;241;43m.\u001b[39;49m\u001b[43m_engine\u001b[49m\u001b[38;5;241;43m.\u001b[39;49m\u001b[43mget_loc\u001b[49m\u001b[43m(\u001b[49m\u001b[43mcasted_key\u001b[49m\u001b[43m)\u001b[49m\n\u001b[1;32m   3622\u001b[0m \u001b[38;5;28;01mexcept\u001b[39;00m \u001b[38;5;167;01mKeyError\u001b[39;00m \u001b[38;5;28;01mas\u001b[39;00m err:\n",
      "File \u001b[0;32m~/opt/anaconda3/lib/python3.9/site-packages/pandas/_libs/index.pyx:136\u001b[0m, in \u001b[0;36mpandas._libs.index.IndexEngine.get_loc\u001b[0;34m()\u001b[0m\n",
      "File \u001b[0;32m~/opt/anaconda3/lib/python3.9/site-packages/pandas/_libs/index.pyx:163\u001b[0m, in \u001b[0;36mpandas._libs.index.IndexEngine.get_loc\u001b[0;34m()\u001b[0m\n",
      "File \u001b[0;32mpandas/_libs/hashtable_class_helper.pxi:5198\u001b[0m, in \u001b[0;36mpandas._libs.hashtable.PyObjectHashTable.get_item\u001b[0;34m()\u001b[0m\n",
      "File \u001b[0;32mpandas/_libs/hashtable_class_helper.pxi:5206\u001b[0m, in \u001b[0;36mpandas._libs.hashtable.PyObjectHashTable.get_item\u001b[0;34m()\u001b[0m\n",
      "\u001b[0;31mKeyError\u001b[0m: 'y'",
      "\nThe above exception was the direct cause of the following exception:\n",
      "\u001b[0;31mKeyError\u001b[0m                                  Traceback (most recent call last)",
      "Input \u001b[0;32mIn [33]\u001b[0m, in \u001b[0;36m<cell line: 3>\u001b[0;34m()\u001b[0m\n\u001b[1;32m      1\u001b[0m fig, axs \u001b[38;5;241m=\u001b[39m plt\u001b[38;5;241m.\u001b[39msubplots(nrows\u001b[38;5;241m=\u001b[39m\u001b[38;5;241m1\u001b[39m, ncols\u001b[38;5;241m=\u001b[39m\u001b[38;5;241m2\u001b[39m)\n\u001b[0;32m----> 3\u001b[0m plot_acf(\u001b[43mdf\u001b[49m\u001b[43m[\u001b[49m\u001b[38;5;124;43m\"\u001b[39;49m\u001b[38;5;124;43my\u001b[39;49m\u001b[38;5;124;43m\"\u001b[39;49m\u001b[43m]\u001b[49m,  lags\u001b[38;5;241m=\u001b[39m\u001b[38;5;241m20\u001b[39m, ax\u001b[38;5;241m=\u001b[39maxs[\u001b[38;5;241m0\u001b[39m],color\u001b[38;5;241m=\u001b[39m\u001b[38;5;124m\"\u001b[39m\u001b[38;5;124mfuchsia\u001b[39m\u001b[38;5;124m\"\u001b[39m)\n\u001b[1;32m      4\u001b[0m axs[\u001b[38;5;241m0\u001b[39m]\u001b[38;5;241m.\u001b[39mset_title(\u001b[38;5;124m\"\u001b[39m\u001b[38;5;124mAutocorrelation\u001b[39m\u001b[38;5;124m\"\u001b[39m);\n\u001b[1;32m      6\u001b[0m \u001b[38;5;66;03m# Plot\u001b[39;00m\n",
      "File \u001b[0;32m~/opt/anaconda3/lib/python3.9/site-packages/pandas/core/frame.py:3505\u001b[0m, in \u001b[0;36mDataFrame.__getitem__\u001b[0;34m(self, key)\u001b[0m\n\u001b[1;32m   3503\u001b[0m \u001b[38;5;28;01mif\u001b[39;00m \u001b[38;5;28mself\u001b[39m\u001b[38;5;241m.\u001b[39mcolumns\u001b[38;5;241m.\u001b[39mnlevels \u001b[38;5;241m>\u001b[39m \u001b[38;5;241m1\u001b[39m:\n\u001b[1;32m   3504\u001b[0m     \u001b[38;5;28;01mreturn\u001b[39;00m \u001b[38;5;28mself\u001b[39m\u001b[38;5;241m.\u001b[39m_getitem_multilevel(key)\n\u001b[0;32m-> 3505\u001b[0m indexer \u001b[38;5;241m=\u001b[39m \u001b[38;5;28;43mself\u001b[39;49m\u001b[38;5;241;43m.\u001b[39;49m\u001b[43mcolumns\u001b[49m\u001b[38;5;241;43m.\u001b[39;49m\u001b[43mget_loc\u001b[49m\u001b[43m(\u001b[49m\u001b[43mkey\u001b[49m\u001b[43m)\u001b[49m\n\u001b[1;32m   3506\u001b[0m \u001b[38;5;28;01mif\u001b[39;00m is_integer(indexer):\n\u001b[1;32m   3507\u001b[0m     indexer \u001b[38;5;241m=\u001b[39m [indexer]\n",
      "File \u001b[0;32m~/opt/anaconda3/lib/python3.9/site-packages/pandas/core/indexes/base.py:3623\u001b[0m, in \u001b[0;36mIndex.get_loc\u001b[0;34m(self, key, method, tolerance)\u001b[0m\n\u001b[1;32m   3621\u001b[0m     \u001b[38;5;28;01mreturn\u001b[39;00m \u001b[38;5;28mself\u001b[39m\u001b[38;5;241m.\u001b[39m_engine\u001b[38;5;241m.\u001b[39mget_loc(casted_key)\n\u001b[1;32m   3622\u001b[0m \u001b[38;5;28;01mexcept\u001b[39;00m \u001b[38;5;167;01mKeyError\u001b[39;00m \u001b[38;5;28;01mas\u001b[39;00m err:\n\u001b[0;32m-> 3623\u001b[0m     \u001b[38;5;28;01mraise\u001b[39;00m \u001b[38;5;167;01mKeyError\u001b[39;00m(key) \u001b[38;5;28;01mfrom\u001b[39;00m \u001b[38;5;21;01merr\u001b[39;00m\n\u001b[1;32m   3624\u001b[0m \u001b[38;5;28;01mexcept\u001b[39;00m \u001b[38;5;167;01mTypeError\u001b[39;00m:\n\u001b[1;32m   3625\u001b[0m     \u001b[38;5;66;03m# If we have a listlike key, _check_indexing_error will raise\u001b[39;00m\n\u001b[1;32m   3626\u001b[0m     \u001b[38;5;66;03m#  InvalidIndexError. Otherwise we fall through and re-raise\u001b[39;00m\n\u001b[1;32m   3627\u001b[0m     \u001b[38;5;66;03m#  the TypeError.\u001b[39;00m\n\u001b[1;32m   3628\u001b[0m     \u001b[38;5;28mself\u001b[39m\u001b[38;5;241m.\u001b[39m_check_indexing_error(key)\n",
      "\u001b[0;31mKeyError\u001b[0m: 'y'"
     ]
    },
    {
     "data": {
      "image/png": "[encoded data removed]",
      "text/plain": [
       "<Figure size 1296x504 with 2 Axes>"
      ]
     },
     "metadata": {},
     "output_type": "display_data"
    }
   ],
   "source": [
    "fig, axs = plt.subplots(nrows=1, ncols=2)\n",
    "\n",
    "plot_acf(df[\"y\"],  lags=20, ax=axs[0],color=\"fuchsia\")\n",
    "axs[0].set_title(\"Autocorrelation\");\n",
    "\n",
    "# Plot\n",
    "plot_pacf(df[\"y\"],  lags=20, ax=axs[1],color=\"lime\")\n",
    "axs[1].set_title('Partial Autocorrelation')\n",
    "\n",
    "plt.show();\n"
   ]
  },
  {
   "cell_type": "code",
   "execution_count": 34,
   "id": "7100535e",
   "metadata": {},
   "outputs": [
    {
     "ename": "KeyError",
     "evalue": "'y'",
     "output_type": "error",
     "traceback": [
      "\u001b[0;31m---------------------------------------------------------------------------\u001b[0m",
      "\u001b[0;31mKeyError\u001b[0m                                  Traceback (most recent call last)",
      "File \u001b[0;32m~/opt/anaconda3/lib/python3.9/site-packages/pandas/core/indexes/base.py:3621\u001b[0m, in \u001b[0;36mIndex.get_loc\u001b[0;34m(self, key, method, tolerance)\u001b[0m\n\u001b[1;32m   3620\u001b[0m \u001b[38;5;28;01mtry\u001b[39;00m:\n\u001b[0;32m-> 3621\u001b[0m     \u001b[38;5;28;01mreturn\u001b[39;00m \u001b[38;5;28;43mself\u001b[39;49m\u001b[38;5;241;43m.\u001b[39;49m\u001b[43m_engine\u001b[49m\u001b[38;5;241;43m.\u001b[39;49m\u001b[43mget_loc\u001b[49m\u001b[43m(\u001b[49m\u001b[43mcasted_key\u001b[49m\u001b[43m)\u001b[49m\n\u001b[1;32m   3622\u001b[0m \u001b[38;5;28;01mexcept\u001b[39;00m \u001b[38;5;167;01mKeyError\u001b[39;00m \u001b[38;5;28;01mas\u001b[39;00m err:\n",
      "File \u001b[0;32m~/opt/anaconda3/lib/python3.9/site-packages/pandas/_libs/index.pyx:136\u001b[0m, in \u001b[0;36mpandas._libs.index.IndexEngine.get_loc\u001b[0;34m()\u001b[0m\n",
      "File \u001b[0;32m~/opt/anaconda3/lib/python3.9/site-packages/pandas/_libs/index.pyx:163\u001b[0m, in \u001b[0;36mpandas._libs.index.IndexEngine.get_loc\u001b[0;34m()\u001b[0m\n",
      "File \u001b[0;32mpandas/_libs/hashtable_class_helper.pxi:5198\u001b[0m, in \u001b[0;36mpandas._libs.hashtable.PyObjectHashTable.get_item\u001b[0;34m()\u001b[0m\n",
      "File \u001b[0;32mpandas/_libs/hashtable_class_helper.pxi:5206\u001b[0m, in \u001b[0;36mpandas._libs.hashtable.PyObjectHashTable.get_item\u001b[0;34m()\u001b[0m\n",
      "\u001b[0;31mKeyError\u001b[0m: 'y'",
      "\nThe above exception was the direct cause of the following exception:\n",
      "\u001b[0;31mKeyError\u001b[0m                                  Traceback (most recent call last)",
      "Input \u001b[0;32mIn [34]\u001b[0m, in \u001b[0;36m<cell line: 2>\u001b[0;34m()\u001b[0m\n\u001b[1;32m      1\u001b[0m \u001b[38;5;28;01mfrom\u001b[39;00m \u001b[38;5;21;01mstatsmodels\u001b[39;00m\u001b[38;5;21;01m.\u001b[39;00m\u001b[38;5;21;01mtsa\u001b[39;00m\u001b[38;5;21;01m.\u001b[39;00m\u001b[38;5;21;01mseasonal\u001b[39;00m \u001b[38;5;28;01mimport\u001b[39;00m seasonal_decompose \n\u001b[0;32m----> 2\u001b[0m a \u001b[38;5;241m=\u001b[39m seasonal_decompose(\u001b[43mdf\u001b[49m\u001b[43m[\u001b[49m\u001b[38;5;124;43m\"\u001b[39;49m\u001b[38;5;124;43my\u001b[39;49m\u001b[38;5;124;43m\"\u001b[39;49m\u001b[43m]\u001b[49m, model \u001b[38;5;241m=\u001b[39m \u001b[38;5;124m\"\u001b[39m\u001b[38;5;124madd\u001b[39m\u001b[38;5;124m\"\u001b[39m, period\u001b[38;5;241m=\u001b[39m\u001b[38;5;241m1\u001b[39m)\n\u001b[1;32m      3\u001b[0m a\u001b[38;5;241m.\u001b[39mplot()\n",
      "File \u001b[0;32m~/opt/anaconda3/lib/python3.9/site-packages/pandas/core/frame.py:3505\u001b[0m, in \u001b[0;36mDataFrame.__getitem__\u001b[0;34m(self, key)\u001b[0m\n\u001b[1;32m   3503\u001b[0m \u001b[38;5;28;01mif\u001b[39;00m \u001b[38;5;28mself\u001b[39m\u001b[38;5;241m.\u001b[39mcolumns\u001b[38;5;241m.\u001b[39mnlevels \u001b[38;5;241m>\u001b[39m \u001b[38;5;241m1\u001b[39m:\n\u001b[1;32m   3504\u001b[0m     \u001b[38;5;28;01mreturn\u001b[39;00m \u001b[38;5;28mself\u001b[39m\u001b[38;5;241m.\u001b[39m_getitem_multilevel(key)\n\u001b[0;32m-> 3505\u001b[0m indexer \u001b[38;5;241m=\u001b[39m \u001b[38;5;28;43mself\u001b[39;49m\u001b[38;5;241;43m.\u001b[39;49m\u001b[43mcolumns\u001b[49m\u001b[38;5;241;43m.\u001b[39;49m\u001b[43mget_loc\u001b[49m\u001b[43m(\u001b[49m\u001b[43mkey\u001b[49m\u001b[43m)\u001b[49m\n\u001b[1;32m   3506\u001b[0m \u001b[38;5;28;01mif\u001b[39;00m is_integer(indexer):\n\u001b[1;32m   3507\u001b[0m     indexer \u001b[38;5;241m=\u001b[39m [indexer]\n",
      "File \u001b[0;32m~/opt/anaconda3/lib/python3.9/site-packages/pandas/core/indexes/base.py:3623\u001b[0m, in \u001b[0;36mIndex.get_loc\u001b[0;34m(self, key, method, tolerance)\u001b[0m\n\u001b[1;32m   3621\u001b[0m     \u001b[38;5;28;01mreturn\u001b[39;00m \u001b[38;5;28mself\u001b[39m\u001b[38;5;241m.\u001b[39m_engine\u001b[38;5;241m.\u001b[39mget_loc(casted_key)\n\u001b[1;32m   3622\u001b[0m \u001b[38;5;28;01mexcept\u001b[39;00m \u001b[38;5;167;01mKeyError\u001b[39;00m \u001b[38;5;28;01mas\u001b[39;00m err:\n\u001b[0;32m-> 3623\u001b[0m     \u001b[38;5;28;01mraise\u001b[39;00m \u001b[38;5;167;01mKeyError\u001b[39;00m(key) \u001b[38;5;28;01mfrom\u001b[39;00m \u001b[38;5;21;01merr\u001b[39;00m\n\u001b[1;32m   3624\u001b[0m \u001b[38;5;28;01mexcept\u001b[39;00m \u001b[38;5;167;01mTypeError\u001b[39;00m:\n\u001b[1;32m   3625\u001b[0m     \u001b[38;5;66;03m# If we have a listlike key, _check_indexing_error will raise\u001b[39;00m\n\u001b[1;32m   3626\u001b[0m     \u001b[38;5;66;03m#  InvalidIndexError. Otherwise we fall through and re-raise\u001b[39;00m\n\u001b[1;32m   3627\u001b[0m     \u001b[38;5;66;03m#  the TypeError.\u001b[39;00m\n\u001b[1;32m   3628\u001b[0m     \u001b[38;5;28mself\u001b[39m\u001b[38;5;241m.\u001b[39m_check_indexing_error(key)\n",
      "\u001b[0;31mKeyError\u001b[0m: 'y'"
     ]
    }
   ],
   "source": [
    "from statsmodels.tsa.seasonal import seasonal_decompose \n",
    "a = seasonal_decompose(df[\"y\"], model = \"add\", period=1)\n",
    "a.plot();\n"
   ]
  },
  {
   "cell_type": "code",
   "execution_count": 35,
   "id": "ccdc4b4a",
   "metadata": {},
   "outputs": [
    {
     "ename": "AttributeError",
     "evalue": "'DataFrame' object has no attribute 'ds'",
     "output_type": "error",
     "traceback": [
      "\u001b[0;31m---------------------------------------------------------------------------\u001b[0m",
      "\u001b[0;31mAttributeError\u001b[0m                            Traceback (most recent call last)",
      "Input \u001b[0;32mIn [35]\u001b[0m, in \u001b[0;36m<cell line: 1>\u001b[0;34m()\u001b[0m\n\u001b[0;32m----> 1\u001b[0m train \u001b[38;5;241m=\u001b[39m df[\u001b[43mdf\u001b[49m\u001b[38;5;241;43m.\u001b[39;49m\u001b[43mds\u001b[49m\u001b[38;5;241m<\u001b[39m\u001b[38;5;241m=\u001b[39m\u001b[38;5;124m'\u001b[39m\u001b[38;5;124m2013-01-01\u001b[39m\u001b[38;5;124m'\u001b[39m] \n\u001b[1;32m      2\u001b[0m test \u001b[38;5;241m=\u001b[39m df[df\u001b[38;5;241m.\u001b[39mds\u001b[38;5;241m>\u001b[39m\u001b[38;5;124m'\u001b[39m\u001b[38;5;124m2013-01-01\u001b[39m\u001b[38;5;124m'\u001b[39m]\n",
      "File \u001b[0;32m~/opt/anaconda3/lib/python3.9/site-packages/pandas/core/generic.py:5575\u001b[0m, in \u001b[0;36mNDFrame.__getattr__\u001b[0;34m(self, name)\u001b[0m\n\u001b[1;32m   5568\u001b[0m \u001b[38;5;28;01mif\u001b[39;00m (\n\u001b[1;32m   5569\u001b[0m     name \u001b[38;5;129;01mnot\u001b[39;00m \u001b[38;5;129;01min\u001b[39;00m \u001b[38;5;28mself\u001b[39m\u001b[38;5;241m.\u001b[39m_internal_names_set\n\u001b[1;32m   5570\u001b[0m     \u001b[38;5;129;01mand\u001b[39;00m name \u001b[38;5;129;01mnot\u001b[39;00m \u001b[38;5;129;01min\u001b[39;00m \u001b[38;5;28mself\u001b[39m\u001b[38;5;241m.\u001b[39m_metadata\n\u001b[1;32m   5571\u001b[0m     \u001b[38;5;129;01mand\u001b[39;00m name \u001b[38;5;129;01mnot\u001b[39;00m \u001b[38;5;129;01min\u001b[39;00m \u001b[38;5;28mself\u001b[39m\u001b[38;5;241m.\u001b[39m_accessors\n\u001b[1;32m   5572\u001b[0m     \u001b[38;5;129;01mand\u001b[39;00m \u001b[38;5;28mself\u001b[39m\u001b[38;5;241m.\u001b[39m_info_axis\u001b[38;5;241m.\u001b[39m_can_hold_identifiers_and_holds_name(name)\n\u001b[1;32m   5573\u001b[0m ):\n\u001b[1;32m   5574\u001b[0m     \u001b[38;5;28;01mreturn\u001b[39;00m \u001b[38;5;28mself\u001b[39m[name]\n\u001b[0;32m-> 5575\u001b[0m \u001b[38;5;28;01mreturn\u001b[39;00m \u001b[38;5;28;43mobject\u001b[39;49m\u001b[38;5;241;43m.\u001b[39;49m\u001b[38;5;21;43m__getattribute__\u001b[39;49m\u001b[43m(\u001b[49m\u001b[38;5;28;43mself\u001b[39;49m\u001b[43m,\u001b[49m\u001b[43m \u001b[49m\u001b[43mname\u001b[49m\u001b[43m)\u001b[49m\n",
      "\u001b[0;31mAttributeError\u001b[0m: 'DataFrame' object has no attribute 'ds'"
     ]
    }
   ],
   "source": [
    "train = df[df.ds<='2013-01-01'] \n",
    "test = df[df.ds>'2013-01-01']"
   ]
  },
  {
   "cell_type": "code",
   "execution_count": 36,
   "id": "c561ddc2",
   "metadata": {},
   "outputs": [
    {
     "ename": "NameError",
     "evalue": "name 'train' is not defined",
     "output_type": "error",
     "traceback": [
      "\u001b[0;31m---------------------------------------------------------------------------\u001b[0m",
      "\u001b[0;31mNameError\u001b[0m                                 Traceback (most recent call last)",
      "Input \u001b[0;32mIn [36]\u001b[0m, in \u001b[0;36m<cell line: 1>\u001b[0;34m()\u001b[0m\n\u001b[0;32m----> 1\u001b[0m \u001b[43mtrain\u001b[49m\u001b[38;5;241m.\u001b[39mshape, test\u001b[38;5;241m.\u001b[39mshape\n",
      "\u001b[0;31mNameError\u001b[0m: name 'train' is not defined"
     ]
    }
   ],
   "source": [
    "train.shape, test.shape"
   ]
  },
  {
   "cell_type": "code",
   "execution_count": 37,
   "id": "4dd425b5",
   "metadata": {},
   "outputs": [
    {
     "data": {
      "text/plain": [
       "((54, 3), (6, 3))"
      ]
     },
     "execution_count": 37,
     "metadata": {},
     "output_type": "execute_result"
    }
   ],
   "source": [
    "((54, 3), (6, 3))"
   ]
  },
  {
   "cell_type": "code",
   "execution_count": 38,
   "id": "fbc55565",
   "metadata": {},
   "outputs": [
    {
     "ename": "NameError",
     "evalue": "name 'train' is not defined",
     "output_type": "error",
     "traceback": [
      "\u001b[0;31m---------------------------------------------------------------------------\u001b[0m",
      "\u001b[0;31mNameError\u001b[0m                                 Traceback (most recent call last)",
      "Input \u001b[0;32mIn [38]\u001b[0m, in \u001b[0;36m<cell line: 1>\u001b[0;34m()\u001b[0m\n\u001b[0;32m----> 1\u001b[0m sns\u001b[38;5;241m.\u001b[39mlineplot(\u001b[43mtrain\u001b[49m,x\u001b[38;5;241m=\u001b[39m\u001b[38;5;124m\"\u001b[39m\u001b[38;5;124mds\u001b[39m\u001b[38;5;124m\"\u001b[39m, y\u001b[38;5;241m=\u001b[39m\u001b[38;5;124m\"\u001b[39m\u001b[38;5;124my\u001b[39m\u001b[38;5;124m\"\u001b[39m, label\u001b[38;5;241m=\u001b[39m\u001b[38;5;124m\"\u001b[39m\u001b[38;5;124mTrain\u001b[39m\u001b[38;5;124m\"\u001b[39m)\n\u001b[1;32m      2\u001b[0m sns\u001b[38;5;241m.\u001b[39mlineplot(test, x\u001b[38;5;241m=\u001b[39m\u001b[38;5;124m\"\u001b[39m\u001b[38;5;124mds\u001b[39m\u001b[38;5;124m\"\u001b[39m, y\u001b[38;5;241m=\u001b[39m\u001b[38;5;124m\"\u001b[39m\u001b[38;5;124my\u001b[39m\u001b[38;5;124m\"\u001b[39m, label\u001b[38;5;241m=\u001b[39m\u001b[38;5;124m\"\u001b[39m\u001b[38;5;124mTest\u001b[39m\u001b[38;5;124m\"\u001b[39m)\n\u001b[1;32m      3\u001b[0m plt\u001b[38;5;241m.\u001b[39mshow()\n",
      "\u001b[0;31mNameError\u001b[0m: name 'train' is not defined"
     ]
    }
   ],
   "source": [
    "sns.lineplot(train,x=\"ds\", y=\"y\", label=\"Train\")\n",
    "sns.lineplot(test, x=\"ds\", y=\"y\", label=\"Test\")\n",
    "plt.show()\n"
   ]
  },
  {
   "cell_type": "code",
   "execution_count": 39,
   "id": "452c552b",
   "metadata": {},
   "outputs": [],
   "source": [
    "from statsforecast.models import AutoETS"
   ]
  },
  {
   "cell_type": "code",
   "execution_count": 40,
   "id": "34d6b3f2",
   "metadata": {},
   "outputs": [],
   "source": [
    "autoets = AutoETS(model=[\"A\",\"Z\",\"N\"],  alias=\"AutoETS\", season_length=1)"
   ]
  },
  {
   "cell_type": "code",
   "execution_count": 41,
   "id": "ae99138a",
   "metadata": {},
   "outputs": [
    {
     "ename": "KeyError",
     "evalue": "'y'",
     "output_type": "error",
     "traceback": [
      "\u001b[0;31m---------------------------------------------------------------------------\u001b[0m",
      "\u001b[0;31mKeyError\u001b[0m                                  Traceback (most recent call last)",
      "File \u001b[0;32m~/opt/anaconda3/lib/python3.9/site-packages/pandas/core/indexes/base.py:3621\u001b[0m, in \u001b[0;36mIndex.get_loc\u001b[0;34m(self, key, method, tolerance)\u001b[0m\n\u001b[1;32m   3620\u001b[0m \u001b[38;5;28;01mtry\u001b[39;00m:\n\u001b[0;32m-> 3621\u001b[0m     \u001b[38;5;28;01mreturn\u001b[39;00m \u001b[38;5;28;43mself\u001b[39;49m\u001b[38;5;241;43m.\u001b[39;49m\u001b[43m_engine\u001b[49m\u001b[38;5;241;43m.\u001b[39;49m\u001b[43mget_loc\u001b[49m\u001b[43m(\u001b[49m\u001b[43mcasted_key\u001b[49m\u001b[43m)\u001b[49m\n\u001b[1;32m   3622\u001b[0m \u001b[38;5;28;01mexcept\u001b[39;00m \u001b[38;5;167;01mKeyError\u001b[39;00m \u001b[38;5;28;01mas\u001b[39;00m err:\n",
      "File \u001b[0;32m~/opt/anaconda3/lib/python3.9/site-packages/pandas/_libs/index.pyx:136\u001b[0m, in \u001b[0;36mpandas._libs.index.IndexEngine.get_loc\u001b[0;34m()\u001b[0m\n",
      "File \u001b[0;32m~/opt/anaconda3/lib/python3.9/site-packages/pandas/_libs/index.pyx:163\u001b[0m, in \u001b[0;36mpandas._libs.index.IndexEngine.get_loc\u001b[0;34m()\u001b[0m\n",
      "File \u001b[0;32mpandas/_libs/hashtable_class_helper.pxi:5198\u001b[0m, in \u001b[0;36mpandas._libs.hashtable.PyObjectHashTable.get_item\u001b[0;34m()\u001b[0m\n",
      "File \u001b[0;32mpandas/_libs/hashtable_class_helper.pxi:5206\u001b[0m, in \u001b[0;36mpandas._libs.hashtable.PyObjectHashTable.get_item\u001b[0;34m()\u001b[0m\n",
      "\u001b[0;31mKeyError\u001b[0m: 'y'",
      "\nThe above exception was the direct cause of the following exception:\n",
      "\u001b[0;31mKeyError\u001b[0m                                  Traceback (most recent call last)",
      "Input \u001b[0;32mIn [41]\u001b[0m, in \u001b[0;36m<cell line: 1>\u001b[0;34m()\u001b[0m\n\u001b[0;32m----> 1\u001b[0m autoets \u001b[38;5;241m=\u001b[39m autoets\u001b[38;5;241m.\u001b[39mfit(\u001b[43mdf\u001b[49m\u001b[43m[\u001b[49m\u001b[38;5;124;43m\"\u001b[39;49m\u001b[38;5;124;43my\u001b[39;49m\u001b[38;5;124;43m\"\u001b[39;49m\u001b[43m]\u001b[49m\u001b[38;5;241m.\u001b[39mvalues)\n\u001b[1;32m      2\u001b[0m autoets\n",
      "File \u001b[0;32m~/opt/anaconda3/lib/python3.9/site-packages/pandas/core/frame.py:3505\u001b[0m, in \u001b[0;36mDataFrame.__getitem__\u001b[0;34m(self, key)\u001b[0m\n\u001b[1;32m   3503\u001b[0m \u001b[38;5;28;01mif\u001b[39;00m \u001b[38;5;28mself\u001b[39m\u001b[38;5;241m.\u001b[39mcolumns\u001b[38;5;241m.\u001b[39mnlevels \u001b[38;5;241m>\u001b[39m \u001b[38;5;241m1\u001b[39m:\n\u001b[1;32m   3504\u001b[0m     \u001b[38;5;28;01mreturn\u001b[39;00m \u001b[38;5;28mself\u001b[39m\u001b[38;5;241m.\u001b[39m_getitem_multilevel(key)\n\u001b[0;32m-> 3505\u001b[0m indexer \u001b[38;5;241m=\u001b[39m \u001b[38;5;28;43mself\u001b[39;49m\u001b[38;5;241;43m.\u001b[39;49m\u001b[43mcolumns\u001b[49m\u001b[38;5;241;43m.\u001b[39;49m\u001b[43mget_loc\u001b[49m\u001b[43m(\u001b[49m\u001b[43mkey\u001b[49m\u001b[43m)\u001b[49m\n\u001b[1;32m   3506\u001b[0m \u001b[38;5;28;01mif\u001b[39;00m is_integer(indexer):\n\u001b[1;32m   3507\u001b[0m     indexer \u001b[38;5;241m=\u001b[39m [indexer]\n",
      "File \u001b[0;32m~/opt/anaconda3/lib/python3.9/site-packages/pandas/core/indexes/base.py:3623\u001b[0m, in \u001b[0;36mIndex.get_loc\u001b[0;34m(self, key, method, tolerance)\u001b[0m\n\u001b[1;32m   3621\u001b[0m     \u001b[38;5;28;01mreturn\u001b[39;00m \u001b[38;5;28mself\u001b[39m\u001b[38;5;241m.\u001b[39m_engine\u001b[38;5;241m.\u001b[39mget_loc(casted_key)\n\u001b[1;32m   3622\u001b[0m \u001b[38;5;28;01mexcept\u001b[39;00m \u001b[38;5;167;01mKeyError\u001b[39;00m \u001b[38;5;28;01mas\u001b[39;00m err:\n\u001b[0;32m-> 3623\u001b[0m     \u001b[38;5;28;01mraise\u001b[39;00m \u001b[38;5;167;01mKeyError\u001b[39;00m(key) \u001b[38;5;28;01mfrom\u001b[39;00m \u001b[38;5;21;01merr\u001b[39;00m\n\u001b[1;32m   3624\u001b[0m \u001b[38;5;28;01mexcept\u001b[39;00m \u001b[38;5;167;01mTypeError\u001b[39;00m:\n\u001b[1;32m   3625\u001b[0m     \u001b[38;5;66;03m# If we have a listlike key, _check_indexing_error will raise\u001b[39;00m\n\u001b[1;32m   3626\u001b[0m     \u001b[38;5;66;03m#  InvalidIndexError. Otherwise we fall through and re-raise\u001b[39;00m\n\u001b[1;32m   3627\u001b[0m     \u001b[38;5;66;03m#  the TypeError.\u001b[39;00m\n\u001b[1;32m   3628\u001b[0m     \u001b[38;5;28mself\u001b[39m\u001b[38;5;241m.\u001b[39m_check_indexing_error(key)\n",
      "\u001b[0;31mKeyError\u001b[0m: 'y'"
     ]
    }
   ],
   "source": [
    "autoets = autoets.fit(df[\"y\"].values)\n",
    "autoets"
   ]
  },
  {
   "cell_type": "code",
   "execution_count": 42,
   "id": "bf0415c9",
   "metadata": {},
   "outputs": [
    {
     "data": {
      "text/plain": [
       "statsforecast.models.AutoETS"
      ]
     },
     "execution_count": 42,
     "metadata": {},
     "output_type": "execute_result"
    }
   ],
   "source": [
    "AutoETS"
   ]
  },
  {
   "cell_type": "code",
   "execution_count": 43,
   "id": "aa1fbe43",
   "metadata": {},
   "outputs": [
    {
     "ename": "AttributeError",
     "evalue": "'AutoETS' object has no attribute 'model_'",
     "output_type": "error",
     "traceback": [
      "\u001b[0;31m---------------------------------------------------------------------------\u001b[0m",
      "\u001b[0;31mAttributeError\u001b[0m                            Traceback (most recent call last)",
      "Input \u001b[0;32mIn [43]\u001b[0m, in \u001b[0;36m<cell line: 1>\u001b[0;34m()\u001b[0m\n\u001b[0;32m----> 1\u001b[0m y_hat_dict \u001b[38;5;241m=\u001b[39m \u001b[43mautoets\u001b[49m\u001b[38;5;241;43m.\u001b[39;49m\u001b[43mpredict\u001b[49m\u001b[43m(\u001b[49m\u001b[43mh\u001b[49m\u001b[38;5;241;43m=\u001b[39;49m\u001b[38;5;241;43m6\u001b[39;49m\u001b[43m)\u001b[49m\n\u001b[1;32m      2\u001b[0m y_hat_dict\n",
      "File \u001b[0;32m~/opt/anaconda3/lib/python3.9/site-packages/statsforecast/models.py:712\u001b[0m, in \u001b[0;36mAutoETS.predict\u001b[0;34m(self, h, X, level)\u001b[0m\n\u001b[1;32m    693\u001b[0m \u001b[38;5;28;01mdef\u001b[39;00m \u001b[38;5;21mpredict\u001b[39m(\n\u001b[1;32m    694\u001b[0m     \u001b[38;5;28mself\u001b[39m, h: \u001b[38;5;28mint\u001b[39m, X: Optional[np\u001b[38;5;241m.\u001b[39mndarray] \u001b[38;5;241m=\u001b[39m \u001b[38;5;28;01mNone\u001b[39;00m, level: Optional[List[\u001b[38;5;28mint\u001b[39m]] \u001b[38;5;241m=\u001b[39m \u001b[38;5;28;01mNone\u001b[39;00m\n\u001b[1;32m    695\u001b[0m ):\n\u001b[1;32m    696\u001b[0m     \u001b[38;5;124mr\u001b[39m\u001b[38;5;124;03m\"\"\"Predict with fitted Exponential Smoothing.\u001b[39;00m\n\u001b[1;32m    697\u001b[0m \n\u001b[1;32m    698\u001b[0m \u001b[38;5;124;03m    Parameters\u001b[39;00m\n\u001b[0;32m   (...)\u001b[0m\n\u001b[1;32m    710\u001b[0m \u001b[38;5;124;03m        Dictionary with entries `mean` for point predictions and `level_*` for probabilistic predictions.\u001b[39;00m\n\u001b[1;32m    711\u001b[0m \u001b[38;5;124;03m    \"\"\"\u001b[39;00m\n\u001b[0;32m--> 712\u001b[0m     fcst \u001b[38;5;241m=\u001b[39m forecast_ets(\u001b[38;5;28;43mself\u001b[39;49m\u001b[38;5;241;43m.\u001b[39;49m\u001b[43mmodel_\u001b[49m, h\u001b[38;5;241m=\u001b[39mh, level\u001b[38;5;241m=\u001b[39mlevel)\n\u001b[1;32m    713\u001b[0m     res \u001b[38;5;241m=\u001b[39m {\u001b[38;5;124m\"\u001b[39m\u001b[38;5;124mmean\u001b[39m\u001b[38;5;124m\"\u001b[39m: fcst[\u001b[38;5;124m\"\u001b[39m\u001b[38;5;124mmean\u001b[39m\u001b[38;5;124m\"\u001b[39m]}\n\u001b[1;32m    714\u001b[0m     \u001b[38;5;28;01mif\u001b[39;00m level \u001b[38;5;129;01mis\u001b[39;00m \u001b[38;5;28;01mNone\u001b[39;00m:\n",
      "\u001b[0;31mAttributeError\u001b[0m: 'AutoETS' object has no attribute 'model_'"
     ]
    }
   ],
   "source": [
    "y_hat_dict = autoets.predict(h=6)\n",
    "y_hat_dict\n"
   ]
  },
  {
   "cell_type": "code",
   "execution_count": 44,
   "id": "e1a42ae8",
   "metadata": {},
   "outputs": [
    {
     "ename": "NameError",
     "evalue": "name 'array' is not defined",
     "output_type": "error",
     "traceback": [
      "\u001b[0;31m---------------------------------------------------------------------------\u001b[0m",
      "\u001b[0;31mNameError\u001b[0m                                 Traceback (most recent call last)",
      "Input \u001b[0;32mIn [44]\u001b[0m, in \u001b[0;36m<cell line: 1>\u001b[0;34m()\u001b[0m\n\u001b[0;32m----> 1\u001b[0m {\u001b[38;5;124m'\u001b[39m\u001b[38;5;124mmean\u001b[39m\u001b[38;5;124m'\u001b[39m: \u001b[43marray\u001b[49m([\u001b[38;5;241m83.56937105\u001b[39m, \u001b[38;5;241m83.65696041\u001b[39m, \u001b[38;5;241m83.74454977\u001b[39m, \u001b[38;5;241m83.83213913\u001b[39m, \u001b[38;5;241m83.91972848\u001b[39m,\n\u001b[1;32m      2\u001b[0m         \u001b[38;5;241m84.00731784\u001b[39m])}\n",
      "\u001b[0;31mNameError\u001b[0m: name 'array' is not defined"
     ]
    }
   ],
   "source": [
    "{'mean': array([83.56937105, 83.65696041, 83.74454977, 83.83213913, 83.91972848,\n",
    "        84.00731784])}\n"
   ]
  },
  {
   "cell_type": "code",
   "execution_count": 45,
   "id": "7dff8002",
   "metadata": {},
   "outputs": [
    {
     "ename": "NameError",
     "evalue": "name 'train' is not defined",
     "output_type": "error",
     "traceback": [
      "\u001b[0;31m---------------------------------------------------------------------------\u001b[0m",
      "\u001b[0;31mNameError\u001b[0m                                 Traceback (most recent call last)",
      "Input \u001b[0;32mIn [45]\u001b[0m, in \u001b[0;36m<cell line: 1>\u001b[0;34m()\u001b[0m\n\u001b[0;32m----> 1\u001b[0m sns\u001b[38;5;241m.\u001b[39mlineplot(\u001b[43mtrain\u001b[49m,x\u001b[38;5;241m=\u001b[39m\u001b[38;5;124m\"\u001b[39m\u001b[38;5;124mds\u001b[39m\u001b[38;5;124m\"\u001b[39m, y\u001b[38;5;241m=\u001b[39m\u001b[38;5;124m\"\u001b[39m\u001b[38;5;124my\u001b[39m\u001b[38;5;124m\"\u001b[39m, label\u001b[38;5;241m=\u001b[39m\u001b[38;5;124m\"\u001b[39m\u001b[38;5;124mTrain\u001b[39m\u001b[38;5;124m\"\u001b[39m)\n\u001b[1;32m      2\u001b[0m sns\u001b[38;5;241m.\u001b[39mlineplot(test, x\u001b[38;5;241m=\u001b[39m\u001b[38;5;124m\"\u001b[39m\u001b[38;5;124mds\u001b[39m\u001b[38;5;124m\"\u001b[39m, y\u001b[38;5;241m=\u001b[39m\u001b[38;5;124m\"\u001b[39m\u001b[38;5;124my\u001b[39m\u001b[38;5;124m\"\u001b[39m, label\u001b[38;5;241m=\u001b[39m\u001b[38;5;124m\"\u001b[39m\u001b[38;5;124mTest\u001b[39m\u001b[38;5;124m\"\u001b[39m)\n\u001b[1;32m      3\u001b[0m sns\u001b[38;5;241m.\u001b[39mlineplot(forecast,x\u001b[38;5;241m=\u001b[39m\u001b[38;5;124m\"\u001b[39m\u001b[38;5;124mds\u001b[39m\u001b[38;5;124m\"\u001b[39m, y\u001b[38;5;241m=\u001b[39m\u001b[38;5;124m\"\u001b[39m\u001b[38;5;124mhat\u001b[39m\u001b[38;5;124m\"\u001b[39m, label\u001b[38;5;241m=\u001b[39m\u001b[38;5;124m\"\u001b[39m\u001b[38;5;124mForecast\u001b[39m\u001b[38;5;124m\"\u001b[39m,)\n",
      "\u001b[0;31mNameError\u001b[0m: name 'train' is not defined"
     ]
    }
   ],
   "source": [
    "sns.lineplot(train,x=\"ds\", y=\"y\", label=\"Train\")\n",
    "sns.lineplot(test, x=\"ds\", y=\"y\", label=\"Test\")\n",
    "sns.lineplot(forecast,x=\"ds\", y=\"hat\", label=\"Forecast\",)\n",
    "plt.show()\n"
   ]
  },
  {
   "cell_type": "code",
   "execution_count": 46,
   "id": "f5d35b78",
   "metadata": {},
   "outputs": [
    {
     "ename": "AttributeError",
     "evalue": "'AutoETS' object has no attribute 'model_'",
     "output_type": "error",
     "traceback": [
      "\u001b[0;31m---------------------------------------------------------------------------\u001b[0m",
      "\u001b[0;31mAttributeError\u001b[0m                            Traceback (most recent call last)",
      "Input \u001b[0;32mIn [46]\u001b[0m, in \u001b[0;36m<cell line: 1>\u001b[0;34m()\u001b[0m\n\u001b[0;32m----> 1\u001b[0m y_hat_dict \u001b[38;5;241m=\u001b[39m \u001b[43mautoets\u001b[49m\u001b[38;5;241;43m.\u001b[39;49m\u001b[43mpredict\u001b[49m\u001b[43m(\u001b[49m\u001b[43mh\u001b[49m\u001b[38;5;241;43m=\u001b[39;49m\u001b[38;5;241;43m6\u001b[39;49m\u001b[43m,\u001b[49m\u001b[43m \u001b[49m\u001b[43mlevel\u001b[49m\u001b[38;5;241;43m=\u001b[39;49m\u001b[43m[\u001b[49m\u001b[38;5;241;43m80\u001b[39;49m\u001b[43m,\u001b[49m\u001b[38;5;241;43m90\u001b[39;49m\u001b[43m,\u001b[49m\u001b[38;5;241;43m95\u001b[39;49m\u001b[43m]\u001b[49m\u001b[43m)\u001b[49m\n\u001b[1;32m      2\u001b[0m y_hat_dict\n",
      "File \u001b[0;32m~/opt/anaconda3/lib/python3.9/site-packages/statsforecast/models.py:712\u001b[0m, in \u001b[0;36mAutoETS.predict\u001b[0;34m(self, h, X, level)\u001b[0m\n\u001b[1;32m    693\u001b[0m \u001b[38;5;28;01mdef\u001b[39;00m \u001b[38;5;21mpredict\u001b[39m(\n\u001b[1;32m    694\u001b[0m     \u001b[38;5;28mself\u001b[39m, h: \u001b[38;5;28mint\u001b[39m, X: Optional[np\u001b[38;5;241m.\u001b[39mndarray] \u001b[38;5;241m=\u001b[39m \u001b[38;5;28;01mNone\u001b[39;00m, level: Optional[List[\u001b[38;5;28mint\u001b[39m]] \u001b[38;5;241m=\u001b[39m \u001b[38;5;28;01mNone\u001b[39;00m\n\u001b[1;32m    695\u001b[0m ):\n\u001b[1;32m    696\u001b[0m     \u001b[38;5;124mr\u001b[39m\u001b[38;5;124;03m\"\"\"Predict with fitted Exponential Smoothing.\u001b[39;00m\n\u001b[1;32m    697\u001b[0m \n\u001b[1;32m    698\u001b[0m \u001b[38;5;124;03m    Parameters\u001b[39;00m\n\u001b[0;32m   (...)\u001b[0m\n\u001b[1;32m    710\u001b[0m \u001b[38;5;124;03m        Dictionary with entries `mean` for point predictions and `level_*` for probabilistic predictions.\u001b[39;00m\n\u001b[1;32m    711\u001b[0m \u001b[38;5;124;03m    \"\"\"\u001b[39;00m\n\u001b[0;32m--> 712\u001b[0m     fcst \u001b[38;5;241m=\u001b[39m forecast_ets(\u001b[38;5;28;43mself\u001b[39;49m\u001b[38;5;241;43m.\u001b[39;49m\u001b[43mmodel_\u001b[49m, h\u001b[38;5;241m=\u001b[39mh, level\u001b[38;5;241m=\u001b[39mlevel)\n\u001b[1;32m    713\u001b[0m     res \u001b[38;5;241m=\u001b[39m {\u001b[38;5;124m\"\u001b[39m\u001b[38;5;124mmean\u001b[39m\u001b[38;5;124m\"\u001b[39m: fcst[\u001b[38;5;124m\"\u001b[39m\u001b[38;5;124mmean\u001b[39m\u001b[38;5;124m\"\u001b[39m]}\n\u001b[1;32m    714\u001b[0m     \u001b[38;5;28;01mif\u001b[39;00m level \u001b[38;5;129;01mis\u001b[39;00m \u001b[38;5;28;01mNone\u001b[39;00m:\n",
      "\u001b[0;31mAttributeError\u001b[0m: 'AutoETS' object has no attribute 'model_'"
     ]
    }
   ],
   "source": [
    "y_hat_dict = autoets.predict(h=6, level=[80,90,95])\n",
    "y_hat_dict\n"
   ]
  },
  {
   "cell_type": "code",
   "execution_count": 47,
   "id": "9fad8f3b",
   "metadata": {},
   "outputs": [
    {
     "ename": "NameError",
     "evalue": "name 'array' is not defined",
     "output_type": "error",
     "traceback": [
      "\u001b[0;31m---------------------------------------------------------------------------\u001b[0m",
      "\u001b[0;31mNameError\u001b[0m                                 Traceback (most recent call last)",
      "Input \u001b[0;32mIn [47]\u001b[0m, in \u001b[0;36m<cell line: 1>\u001b[0;34m()\u001b[0m\n\u001b[0;32m----> 1\u001b[0m {\u001b[38;5;124m'\u001b[39m\u001b[38;5;124mmean\u001b[39m\u001b[38;5;124m'\u001b[39m: \u001b[43marray\u001b[49m([\u001b[38;5;241m83.56937105\u001b[39m, \u001b[38;5;241m83.65696041\u001b[39m, \u001b[38;5;241m83.74454977\u001b[39m, \u001b[38;5;241m83.83213913\u001b[39m, \u001b[38;5;241m83.91972848\u001b[39m,\n\u001b[1;32m      2\u001b[0m         \u001b[38;5;241m84.00731784\u001b[39m]),\n\u001b[1;32m      3\u001b[0m  \u001b[38;5;124m'\u001b[39m\u001b[38;5;124mlo-95\u001b[39m\u001b[38;5;124m'\u001b[39m: array([\u001b[38;5;241m83.09409059\u001b[39m, \u001b[38;5;241m83.17958519\u001b[39m, \u001b[38;5;241m83.25889648\u001b[39m, \u001b[38;5;241m83.32836493\u001b[39m, \u001b[38;5;241m83.3852606\u001b[39m ,\n\u001b[1;32m      4\u001b[0m         \u001b[38;5;241m83.42814393\u001b[39m]),\n\u001b[1;32m      5\u001b[0m  \u001b[38;5;124m'\u001b[39m\u001b[38;5;124mlo-90\u001b[39m\u001b[38;5;124m'\u001b[39m: array([\u001b[38;5;241m83.17050311\u001b[39m, \u001b[38;5;241m83.2563345\u001b[39m , \u001b[38;5;241m83.33697668\u001b[39m, \u001b[38;5;241m83.40935849\u001b[39m, \u001b[38;5;241m83.4711889\u001b[39m ,\n\u001b[1;32m      6\u001b[0m         \u001b[38;5;241m83.52125977\u001b[39m]),\n\u001b[1;32m      7\u001b[0m  \u001b[38;5;124m'\u001b[39m\u001b[38;5;124mlo-80\u001b[39m\u001b[38;5;124m'\u001b[39m: array([\u001b[38;5;241m83.25860186\u001b[39m, \u001b[38;5;241m83.34482153\u001b[39m, \u001b[38;5;241m83.42699815\u001b[39m, \u001b[38;5;241m83.50273888\u001b[39m, \u001b[38;5;241m83.57025872\u001b[39m,\n\u001b[1;32m      8\u001b[0m         \u001b[38;5;241m83.62861638\u001b[39m]),\n\u001b[1;32m      9\u001b[0m  \u001b[38;5;124m'\u001b[39m\u001b[38;5;124mhi-80\u001b[39m\u001b[38;5;124m'\u001b[39m: array([\u001b[38;5;241m83.88014025\u001b[39m, \u001b[38;5;241m83.96909929\u001b[39m, \u001b[38;5;241m84.06210139\u001b[39m, \u001b[38;5;241m84.16153937\u001b[39m, \u001b[38;5;241m84.26919825\u001b[39m,\n\u001b[1;32m     10\u001b[0m         \u001b[38;5;241m84.38601931\u001b[39m]),\n\u001b[1;32m     11\u001b[0m  \u001b[38;5;124m'\u001b[39m\u001b[38;5;124mhi-90\u001b[39m\u001b[38;5;124m'\u001b[39m: array([\u001b[38;5;241m83.96823899\u001b[39m, \u001b[38;5;241m84.05758633\u001b[39m, \u001b[38;5;241m84.15212286\u001b[39m, \u001b[38;5;241m84.25491976\u001b[39m, \u001b[38;5;241m84.36826807\u001b[39m,\n\u001b[1;32m     12\u001b[0m         \u001b[38;5;241m84.49337591\u001b[39m]),\n\u001b[1;32m     13\u001b[0m  \u001b[38;5;124m'\u001b[39m\u001b[38;5;124mhi-95\u001b[39m\u001b[38;5;124m'\u001b[39m: array([\u001b[38;5;241m84.04465152\u001b[39m, \u001b[38;5;241m84.13433563\u001b[39m, \u001b[38;5;241m84.23020306\u001b[39m, \u001b[38;5;241m84.33591332\u001b[39m, \u001b[38;5;241m84.45419637\u001b[39m,\n\u001b[1;32m     14\u001b[0m         \u001b[38;5;241m84.58649176\u001b[39m])}\n",
      "\u001b[0;31mNameError\u001b[0m: name 'array' is not defined"
     ]
    }
   ],
   "source": [
    "{'mean': array([83.56937105, 83.65696041, 83.74454977, 83.83213913, 83.91972848,\n",
    "        84.00731784]),\n",
    " 'lo-95': array([83.09409059, 83.17958519, 83.25889648, 83.32836493, 83.3852606 ,\n",
    "        83.42814393]),\n",
    " 'lo-90': array([83.17050311, 83.2563345 , 83.33697668, 83.40935849, 83.4711889 ,\n",
    "        83.52125977]),\n",
    " 'lo-80': array([83.25860186, 83.34482153, 83.42699815, 83.50273888, 83.57025872,\n",
    "        83.62861638]),\n",
    " 'hi-80': array([83.88014025, 83.96909929, 84.06210139, 84.16153937, 84.26919825,\n",
    "        84.38601931]),\n",
    " 'hi-90': array([83.96823899, 84.05758633, 84.15212286, 84.25491976, 84.36826807,\n",
    "        84.49337591]),\n",
    " 'hi-95': array([84.04465152, 84.13433563, 84.23020306, 84.33591332, 84.45419637,\n",
    "        84.58649176])}\n"
   ]
  },
  {
   "cell_type": "code",
   "execution_count": 48,
   "id": "d3c95376",
   "metadata": {},
   "outputs": [
    {
     "ename": "NameError",
     "evalue": "name 'y_hat_dict' is not defined",
     "output_type": "error",
     "traceback": [
      "\u001b[0;31m---------------------------------------------------------------------------\u001b[0m",
      "\u001b[0;31mNameError\u001b[0m                                 Traceback (most recent call last)",
      "Input \u001b[0;32mIn [48]\u001b[0m, in \u001b[0;36m<cell line: 1>\u001b[0;34m()\u001b[0m\n\u001b[0;32m----> 1\u001b[0m forecast[\u001b[38;5;124m\"\u001b[39m\u001b[38;5;124mhat\u001b[39m\u001b[38;5;124m\"\u001b[39m]\u001b[38;5;241m=\u001b[39m\u001b[43my_hat_dict\u001b[49m\u001b[38;5;241m.\u001b[39mget(\u001b[38;5;124m\"\u001b[39m\u001b[38;5;124mmean\u001b[39m\u001b[38;5;124m\"\u001b[39m)\n\u001b[1;32m      3\u001b[0m forecast[\u001b[38;5;124m\"\u001b[39m\u001b[38;5;124mlo-80\u001b[39m\u001b[38;5;124m\"\u001b[39m]\u001b[38;5;241m=\u001b[39my_hat_dict\u001b[38;5;241m.\u001b[39mget(\u001b[38;5;124m\"\u001b[39m\u001b[38;5;124mlo-80\u001b[39m\u001b[38;5;124m\"\u001b[39m)\n\u001b[1;32m      4\u001b[0m forecast[\u001b[38;5;124m\"\u001b[39m\u001b[38;5;124mhi-80\u001b[39m\u001b[38;5;124m\"\u001b[39m]\u001b[38;5;241m=\u001b[39my_hat_dict\u001b[38;5;241m.\u001b[39mget(\u001b[38;5;124m\"\u001b[39m\u001b[38;5;124mhi-80\u001b[39m\u001b[38;5;124m\"\u001b[39m)\n",
      "\u001b[0;31mNameError\u001b[0m: name 'y_hat_dict' is not defined"
     ]
    }
   ],
   "source": [
    "forecast[\"hat\"]=y_hat_dict.get(\"mean\")\n",
    "\n",
    "forecast[\"lo-80\"]=y_hat_dict.get(\"lo-80\")\n",
    "forecast[\"hi-80\"]=y_hat_dict.get(\"hi-80\")\n",
    "\n",
    "forecast[\"lo-90\"]=y_hat_dict.get(\"lo-80\")\n",
    "forecast[\"hi-90\"]=y_hat_dict.get(\"hi-80\")\n",
    "\n",
    "forecast[\"lo-95\"]=y_hat_dict.get(\"lo-95\")\n",
    "forecast[\"hi-95\"]=y_hat_dict.get(\"hi-95\")\n",
    "forecast\n"
   ]
  },
  {
   "cell_type": "markdown",
   "id": "23a20c76",
   "metadata": {},
   "source": [
    "# Con mi codigo del proyecto del oro"
   ]
  },
  {
   "cell_type": "markdown",
   "id": "28f250ee",
   "metadata": {},
   "source": [
    "# Unique value"
   ]
  },
  {
   "cell_type": "code",
   "execution_count": 5,
   "id": "da1a0605",
   "metadata": {},
   "outputs": [
    {
     "name": "stderr",
     "output_type": "stream",
     "text": [
      "[*********************100%***********************]  1 of 1 completed\n"
     ]
    },
    {
     "name": "stdout",
     "output_type": "stream",
     "text": [
      "                  Open        High         Low       Close   Adj Close  \\\n",
      "Date                                                                     \n",
      "2020-01-02  143.860001  144.210007  143.399994  143.949997  143.949997   \n",
      "2020-01-03  145.750000  146.320007  145.399994  145.860001  145.860001   \n",
      "2020-01-06  148.440002  148.479996  146.949997  147.389999  147.389999   \n",
      "2020-01-07  147.570007  148.139999  147.429993  147.970001  147.970001   \n",
      "2020-01-08  148.490005  148.610001  146.139999  146.860001  146.860001   \n",
      "\n",
      "              Volume Unique_ID  \n",
      "Date                            \n",
      "2020-01-02   7733800     GLD_0  \n",
      "2020-01-03  12272800     GLD_1  \n",
      "2020-01-06  14403300     GLD_2  \n",
      "2020-01-07   7978500     GLD_3  \n",
      "2020-01-08  22248500     GLD_4  \n"
     ]
    },
    {
     "data": {
      "image/png": "[encoded data removed]",
      "text/plain": [
       "<Figure size 864x432 with 1 Axes>"
      ]
     },
     "metadata": {
      "needs_background": "light"
     },
     "output_type": "display_data"
    }
   ],
   "source": [
    "import pandas as pd\n",
    "import yfinance as yf\n",
    "import matplotlib.pyplot as plt\n",
    "\n",
    "# Descargar datos de oro (ETF GLD)\n",
    "gold_data = yf.download('GLD', start='2020-01-01', end='2024-09-01')\n",
    "\n",
    "# Crear un ID único para cada registro\n",
    "gold_data['Unique_ID'] = [f'GLD_{i}' for i in range(len(gold_data))]\n",
    "\n",
    "# Visualizar los primeros registros para verificar\n",
    "print(gold_data.head())\n",
    "\n",
    "# Graficar los precios de cierre\n",
    "plt.figure(figsize=(12, 6))\n",
    "plt.plot(gold_data.index, gold_data['Close'], label='Precio de cierre', color='gold')\n",
    "plt.title('Precio de Cierre de GLD (2020-2024)')\n",
    "plt.xlabel('Fecha')\n",
    "plt.ylabel('Precio de Cierre (USD)')\n",
    "plt.legend()\n",
    "plt.grid()\n",
    "plt.show()\n"
   ]
  },
  {
   "cell_type": "markdown",
   "id": "9036a2c0",
   "metadata": {},
   "source": [
    "# Autocorrelación"
   ]
  },
  {
   "cell_type": "code",
   "execution_count": null,
   "id": "943dc86a",
   "metadata": {},
   "outputs": [],
   "source": []
  },
  {
   "cell_type": "code",
   "execution_count": 1,
   "id": "06a601b7",
   "metadata": {},
   "outputs": [
    {
     "name": "stdout",
     "output_type": "stream",
     "text": [
      "Requirement already satisfied: statsforecast in ./opt/anaconda3/lib/python3.9/site-packages (1.7.6)\n",
      "Requirement already satisfied: threadpoolctl in ./opt/anaconda3/lib/python3.9/site-packages (from statsforecast) (2.2.0)\n",
      "Requirement already satisfied: coreforecast>=0.0.12 in ./opt/anaconda3/lib/python3.9/site-packages (from statsforecast) (0.0.12)\n",
      "Requirement already satisfied: tqdm in ./opt/anaconda3/lib/python3.9/site-packages (from statsforecast) (4.64.0)\n",
      "Requirement already satisfied: numpy>=1.21.6 in ./opt/anaconda3/lib/python3.9/site-packages (from statsforecast) (1.21.6)\n",
      "Requirement already satisfied: pandas>=1.3.5 in ./opt/anaconda3/lib/python3.9/site-packages (from statsforecast) (1.4.2)\n",
      "Requirement already satisfied: numba>=0.55.0 in ./opt/anaconda3/lib/python3.9/site-packages (from statsforecast) (0.55.1)\n",
      "Requirement already satisfied: statsmodels>=0.13.2 in ./opt/anaconda3/lib/python3.9/site-packages (from statsforecast) (0.13.2)\n",
      "Requirement already satisfied: cloudpickle in ./opt/anaconda3/lib/python3.9/site-packages (from statsforecast) (2.0.0)\n",
      "Requirement already satisfied: fugue>=0.8.1 in ./opt/anaconda3/lib/python3.9/site-packages (from statsforecast) (0.9.1)\n",
      "Requirement already satisfied: utilsforecast>=0.1.4 in ./opt/anaconda3/lib/python3.9/site-packages (from statsforecast) (0.2.3)\n",
      "Requirement already satisfied: scipy>=1.7.3 in ./opt/anaconda3/lib/python3.9/site-packages (from statsforecast) (1.7.3)\n",
      "Requirement already satisfied: importlib_resources in ./opt/anaconda3/lib/python3.9/site-packages (from coreforecast>=0.0.12->statsforecast) (6.4.4)\n",
      "Requirement already satisfied: adagio>=0.2.4 in ./opt/anaconda3/lib/python3.9/site-packages (from fugue>=0.8.1->statsforecast) (0.2.6)\n",
      "Requirement already satisfied: triad>=0.9.7 in ./opt/anaconda3/lib/python3.9/site-packages (from fugue>=0.8.1->statsforecast) (0.9.8)\n",
      "Requirement already satisfied: setuptools in ./opt/anaconda3/lib/python3.9/site-packages (from numba>=0.55.0->statsforecast) (61.2.0)\n",
      "Requirement already satisfied: llvmlite<0.39,>=0.38.0rc1 in ./opt/anaconda3/lib/python3.9/site-packages (from numba>=0.55.0->statsforecast) (0.38.0)\n",
      "Requirement already satisfied: python-dateutil>=2.8.1 in ./opt/anaconda3/lib/python3.9/site-packages (from pandas>=1.3.5->statsforecast) (2.8.2)\n",
      "Requirement already satisfied: pytz>=2020.1 in ./opt/anaconda3/lib/python3.9/site-packages (from pandas>=1.3.5->statsforecast) (2024.1)\n",
      "Requirement already satisfied: six>=1.5 in ./opt/anaconda3/lib/python3.9/site-packages (from python-dateutil>=2.8.1->pandas>=1.3.5->statsforecast) (1.16.0)\n",
      "Requirement already satisfied: packaging>=21.3 in ./opt/anaconda3/lib/python3.9/site-packages (from statsmodels>=0.13.2->statsforecast) (21.3)\n",
      "Requirement already satisfied: patsy>=0.5.2 in ./opt/anaconda3/lib/python3.9/site-packages (from statsmodels>=0.13.2->statsforecast) (0.5.2)\n",
      "Requirement already satisfied: pyparsing!=3.0.5,>=2.0.2 in ./opt/anaconda3/lib/python3.9/site-packages (from packaging>=21.3->statsmodels>=0.13.2->statsforecast) (3.0.4)\n",
      "Requirement already satisfied: fs in ./opt/anaconda3/lib/python3.9/site-packages (from triad>=0.9.7->fugue>=0.8.1->statsforecast) (2.4.16)\n",
      "Requirement already satisfied: pyarrow>=6.0.1 in ./opt/anaconda3/lib/python3.9/site-packages (from triad>=0.9.7->fugue>=0.8.1->statsforecast) (17.0.0)\n",
      "Requirement already satisfied: fsspec>=2022.5.0 in ./opt/anaconda3/lib/python3.9/site-packages (from triad>=0.9.7->fugue>=0.8.1->statsforecast) (2024.6.1)\n",
      "Requirement already satisfied: appdirs~=1.4.3 in ./opt/anaconda3/lib/python3.9/site-packages (from fs->triad>=0.9.7->fugue>=0.8.1->statsforecast) (1.4.4)\n",
      "Requirement already satisfied: zipp>=3.1.0 in ./opt/anaconda3/lib/python3.9/site-packages (from importlib_resources->coreforecast>=0.0.12->statsforecast) (3.7.0)\n",
      "Note: you may need to restart the kernel to use updated packages.\n"
     ]
    }
   ],
   "source": []
  },
  {
   "cell_type": "code",
   "execution_count": 6,
   "id": "e4118d97",
   "metadata": {},
   "outputs": [
    {
     "name": "stderr",
     "output_type": "stream",
     "text": [
      "\r",
      "[*********************100%***********************]  1 of 1 completed"
     ]
    },
    {
     "name": "stdout",
     "output_type": "stream",
     "text": [
      "                  Open        High         Low       Close   Adj Close  \\\n",
      "Date                                                                     \n",
      "2020-01-02  143.860001  144.210007  143.399994  143.949997  143.949997   \n",
      "2020-01-03  145.750000  146.320007  145.399994  145.860001  145.860001   \n",
      "2020-01-06  148.440002  148.479996  146.949997  147.389999  147.389999   \n",
      "2020-01-07  147.570007  148.139999  147.429993  147.970001  147.970001   \n",
      "2020-01-08  148.490005  148.610001  146.139999  146.860001  146.860001   \n",
      "\n",
      "              Volume Unique_ID  \n",
      "Date                            \n",
      "2020-01-02   7733800     GLD_0  \n",
      "2020-01-03  12272800     GLD_1  \n",
      "2020-01-06  14403300     GLD_2  \n",
      "2020-01-07   7978500     GLD_3  \n",
      "2020-01-08  22248500     GLD_4  \n"
     ]
    },
    {
     "name": "stderr",
     "output_type": "stream",
     "text": [
      "\n"
     ]
    },
    {
     "data": {
      "text/plain": [
       "<Figure size 720x432 with 0 Axes>"
      ]
     },
     "metadata": {},
     "output_type": "display_data"
    },
    {
     "data": {
      "image/png": "[encoded data removed]",
      "text/plain": [
       "<Figure size 432x288 with 1 Axes>"
      ]
     },
     "metadata": {
      "needs_background": "light"
     },
     "output_type": "display_data"
    }
   ],
   "source": [
    "import pandas as pd\n",
    "import yfinance as yf\n",
    "import matplotlib.pyplot as plt\n",
    "from statsmodels.graphics.tsaplots import plot_acf\n",
    "\n",
    "gold_data = yf.download('GLD', start='2020-01-01', end='2024-09-01')\n",
    "\n",
    "gold_data['Unique_ID'] = [f'GLD_{i}' for i in range(len(gold_data))]\n",
    "\n",
    "print(gold_data.head())\n",
    "\n",
    "plt.figure(figsize=(10, 6))\n",
    "plot_acf(gold_data['Close'].dropna(), lags=40)  # Usa hasta 40 lags para ver correlaciones pasadas\n",
    "plt.title('Autocorrelación del Precio de Cierre de GLD')\n",
    "plt.xlabel('Retrasos (lags)')\n",
    "plt.ylabel('Autocorrelación')\n",
    "plt.show()\n"
   ]
  },
  {
   "cell_type": "markdown",
   "id": "31fe70b9",
   "metadata": {},
   "source": [
    "# Autoets"
   ]
  },
  {
   "cell_type": "code",
   "execution_count": 12,
   "id": "19d0b74a",
   "metadata": {},
   "outputs": [
    {
     "name": "stderr",
     "output_type": "stream",
     "text": [
      "[*********************100%***********************]  1 of 1 completed\n",
      "/Users/paulapelayo/opt/anaconda3/lib/python3.9/site-packages/statsmodels/tsa/base/tsa_model.py:471: ValueWarning: A date index has been provided, but it has no associated frequency information and so will be ignored when e.g. forecasting.\n",
      "  self._init_dates(dates, freq)\n",
      "/Users/paulapelayo/opt/anaconda3/lib/python3.9/site-packages/statsmodels/tsa/base/tsa_model.py:834: ValueWarning: No supported index is available. Prediction results will be given with an integer index beginning at `start`.\n",
      "  return get_prediction_index(\n"
     ]
    },
    {
     "data": {
      "image/png": "[encoded data removed]",
      "text/plain": [
       "<Figure size 864x432 with 1 Axes>"
      ]
     },
     "metadata": {
      "needs_background": "light"
     },
     "output_type": "display_data"
    }
   ],
   "source": [
    "import yfinance as yf\n",
    "import matplotlib.pyplot as plt\n",
    "from statsmodels.tsa.holtwinters import ExponentialSmoothing\n",
    "import pandas as pd\n",
    "\n",
    "gold_data = yf.download('GLD', start='2020-01-01', end='2024-09-01')\n",
    "\n",
    "close_prices = gold_data['Close'].dropna()\n",
    "\n",
    "\n",
    "model = ExponentialSmoothing(\n",
    "    close_prices,\n",
    "    trend='add',   \n",
    "    seasonal=None  \n",
    ").fit()\n",
    "\n",
    "\n",
    "forecast_horizon = 30\n",
    "forecast = model.forecast(forecast_horizon)\n",
    "\n",
    "plt.figure(figsize=(12, 6))\n",
    "plt.plot(close_prices.index, close_prices, label='Precio de Cierre', color='gold')\n",
    "plt.plot(pd.date_range(close_prices.index[-1], periods=forecast_horizon + 1, freq='B')[1:], \n",
    "         forecast, label='Predicción ETS', color='blue')\n",
    "plt.title('Predicción del Precio de Cierre de GLD con ETS (Holt-Winters)')\n",
    "plt.xlabel('Fecha')\n",
    "plt.ylabel('Precio de Cierre (USD)')\n",
    "plt.legend()\n",
    "plt.grid()\n",
    "plt.show()"
   ]
  },
  {
   "cell_type": "code",
   "execution_count": null,
   "id": "5f203833",
   "metadata": {},
   "outputs": [],
   "source": []
  }
 ],
 "metadata": {
  "kernelspec": {
   "display_name": "Python 3 (ipykernel)",
   "language": "python",
   "name": "python3"
  },
  "language_info": {
   "codemirror_mode": {
    "name": "ipython",
    "version": 3
   },
   "file_extension": ".py",
   "mimetype": "text/x-python",
   "name": "python",
   "nbconvert_exporter": "python",
   "pygments_lexer": "ipython3",
   "version": "3.9.12"
  }
 },
 "nbformat": 4,
 "nbformat_minor": 5
}
