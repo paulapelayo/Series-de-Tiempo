{
 "cells": [
  {
   "cell_type": "code",
   "execution_count": 2,
   "id": "04cdf0dc",
   "metadata": {},
   "outputs": [
    {
     "name": "stderr",
     "output_type": "stream",
     "text": [
      "[*********************100%***********************]  1 of 1 completed\n"
     ]
    },
    {
     "ename": "NameError",
     "evalue": "name 'np' is not defined",
     "output_type": "error",
     "traceback": [
      "\u001b[1;31m---------------------------------------------------------------------------\u001b[0m",
      "\u001b[1;31mNameError\u001b[0m                                 Traceback (most recent call last)",
      "\u001b[1;32m~\\AppData\\Local\\Temp\\ipykernel_8776\\4131738467.py\u001b[0m in \u001b[0;36m<module>\u001b[1;34m\u001b[0m\n\u001b[0;32m      8\u001b[0m \u001b[1;33m\u001b[0m\u001b[0m\n\u001b[0;32m      9\u001b[0m \u001b[1;31m# Crear regresores ficticios para el ejemplo\u001b[0m\u001b[1;33m\u001b[0m\u001b[1;33m\u001b[0m\u001b[0m\n\u001b[1;32m---> 10\u001b[1;33m \u001b[0mgold_data\u001b[0m\u001b[1;33m[\u001b[0m\u001b[1;34m'time'\u001b[0m\u001b[1;33m]\u001b[0m \u001b[1;33m=\u001b[0m \u001b[0mnp\u001b[0m\u001b[1;33m.\u001b[0m\u001b[0marange\u001b[0m\u001b[1;33m(\u001b[0m\u001b[0mlen\u001b[0m\u001b[1;33m(\u001b[0m\u001b[0mgold_data\u001b[0m\u001b[1;33m)\u001b[0m\u001b[1;33m)\u001b[0m  \u001b[1;31m# Índice temporal\u001b[0m\u001b[1;33m\u001b[0m\u001b[1;33m\u001b[0m\u001b[0m\n\u001b[0m\u001b[0;32m     11\u001b[0m \u001b[0mgold_data\u001b[0m\u001b[1;33m[\u001b[0m\u001b[1;34m'sin_time'\u001b[0m\u001b[1;33m]\u001b[0m \u001b[1;33m=\u001b[0m \u001b[0mnp\u001b[0m\u001b[1;33m.\u001b[0m\u001b[0msin\u001b[0m\u001b[1;33m(\u001b[0m\u001b[0mgold_data\u001b[0m\u001b[1;33m[\u001b[0m\u001b[1;34m'time'\u001b[0m\u001b[1;33m]\u001b[0m \u001b[1;33m/\u001b[0m \u001b[1;36m50\u001b[0m\u001b[1;33m)\u001b[0m  \u001b[1;31m# Componente sinusoidal\u001b[0m\u001b[1;33m\u001b[0m\u001b[1;33m\u001b[0m\u001b[0m\n\u001b[0;32m     12\u001b[0m \u001b[1;33m\u001b[0m\u001b[0m\n",
      "\u001b[1;31mNameError\u001b[0m: name 'np' is not defined"
     ]
    }
   ],
   "source": [
    "import yfinance as yf\n",
    "\n",
    "gold_data = yf.download('GC=F', start='2020-01-01', end='2024-11-20', interval='1d')\n",
    "\n",
    "gold_data = gold_data[['Close']].dropna()  \n",
    "\n",
    "gold_data['time'] = np.arange(len(gold_data)) \n",
    "gold_data['sin_time'] = np.sin(gold_data['time'] / 50) \n",
    "\n",
    "y_gold = gold_data['Close']\n",
    "X_gold = sm.add_constant(gold_data[['time', 'sin_time']])\n",
    "\n",
    "model_reg_gold = sm.OLS(y_gold, X_gold).fit()\n",
    "\n",
    "residuals_gold = model_reg_gold.resid\n",
    "\n",
    "model_arima_gold = ARIMA(residuals_gold, order=(1, 0, 1)).fit()\n",
    "\n",
    "reg_summary_gold = model_reg_gold.summary()\n",
    "arima_summary_gold = model_arima_gold.summary()\n",
    "\n",
    "reg_summary_gold, arima_summary_gold"
   ]
  },
  {
   "cell_type": "code",
   "execution_count": null,
   "id": "8ace8d3c",
   "metadata": {},
   "outputs": [],
   "source": []
  }
 ],
 "metadata": {
  "kernelspec": {
   "display_name": "Python 3 (ipykernel)",
   "language": "python",
   "name": "python3"
  },
  "language_info": {
   "codemirror_mode": {
    "name": "ipython",
    "version": 3
   },
   "file_extension": ".py",
   "mimetype": "text/x-python",
   "name": "python",
   "nbconvert_exporter": "python",
   "pygments_lexer": "ipython3",
   "version": "3.9.13"
  }
 },
 "nbformat": 4,
 "nbformat_minor": 5
}
